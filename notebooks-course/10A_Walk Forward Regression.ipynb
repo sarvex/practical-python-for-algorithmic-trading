{
 "cells": [
  {
   "attachments": {},
   "cell_type": "markdown",
   "id": "eefba2db-9f60-42d8-a4f0-1e3c95efbcc1",
   "metadata": {
    "tags": []
   },
   "source": [
    "# Walk Forward: A Realistic Approach to Backtesting"
   ]
  },
  {
   "cell_type": "code",
   "execution_count": null,
   "id": "3d15e41b",
   "metadata": {},
   "outputs": [],
   "source": [
    "???"
   ]
  },
  {
   "attachments": {},
   "cell_type": "markdown",
   "id": "2cbbd389-c68c-4a3c-b37b-04ce831736ae",
   "metadata": {},
   "source": [
    "![](<src/10_Table_Validation Methods.png>)"
   ]
  },
  {
   "attachments": {},
   "cell_type": "markdown",
   "id": "bbaab23b-8ecd-4dd7-b234-bca3866046a6",
   "metadata": {},
   "source": [
    "## Load the data"
   ]
  },
  {
   "cell_type": "code",
   "execution_count": null,
   "id": "ab861230-5583-46dd-afb6-ba432e1cb765",
   "metadata": {},
   "outputs": [],
   "source": [
    "import pandas as pd\n",
    "\n",
    "df = pd.read_excel('data/Microsoft_LinkedIn_Processed.xlsx', parse_dates=['Date'], index_col=0)\n",
    "df = df.drop(columns='change_tomorrow_direction')\n",
    "df"
   ]
  },
  {
   "attachments": {},
   "cell_type": "markdown",
   "id": "6727b5de-2ebf-4c69-b394-3d05b810c4e3",
   "metadata": {},
   "source": [
    "## Walk Forward Validation"
   ]
  },
  {
   "attachments": {},
   "cell_type": "markdown",
   "id": "4166d62a-ce20-4983-a6e1-a21104257369",
   "metadata": {},
   "source": [
    "### How `TimeSeriesSplit` works"
   ]
  },
  {
   "cell_type": "code",
   "execution_count": null,
   "id": "beb195e5",
   "metadata": {},
   "outputs": [],
   "source": [
    "from sklearn.model_selection import ???"
   ]
  },
  {
   "cell_type": "code",
   "execution_count": null,
   "id": "d8a46710",
   "metadata": {},
   "outputs": [],
   "source": [
    "list_df_train = []\n",
    "list_df_test = []\n",
    "\n",
    "for index_train, index_test in ???:\n",
    "    list_df_train.append(df.iloc[index_train])\n",
    "    list_df_test.append(df.iloc[index_test])"
   ]
  },
  {
   "attachments": {},
   "cell_type": "markdown",
   "id": "cb5a5fb3-4ef1-4f77-8466-6099e8538e56",
   "metadata": {},
   "source": [
    "## Machine Learning Model"
   ]
  },
  {
   "attachments": {},
   "cell_type": "markdown",
   "id": "8bbf358a-4cba-49b3-8123-e8efa2bd7242",
   "metadata": {},
   "source": [
    "### Separate the data\n",
    "\n",
    "1. Target: which variable do you want to predict?\n",
    "2. Explanatory: which variables will you use to calculate the prediction?"
   ]
  },
  {
   "cell_type": "code",
   "execution_count": null,
   "id": "ef3796a9-334d-48b2-b516-0c1e9122dbbc",
   "metadata": {},
   "outputs": [],
   "source": [
    "y = df.change_tomorrow\n",
    "X = df[['Open','High','Low','Close','Volume']]"
   ]
  },
  {
   "cell_type": "code",
   "execution_count": null,
   "id": "dc340c09",
   "metadata": {},
   "outputs": [],
   "source": [
    "list_df_train = []\n",
    "list_df_test = []\n",
    "\n",
    "for index_train, index_test in ???:\n",
    "    X_train, y_train = ???\n",
    "    X_test, y_test = ???"
   ]
  },
  {
   "attachments": {},
   "cell_type": "markdown",
   "id": "cc103240",
   "metadata": {},
   "source": [
    "### Simulate one computation of the ML model\n",
    "\n",
    "- Compute the model\n",
    "- Calculate predictions on the test set\n",
    "- Evaluate how good the model is"
   ]
  },
  {
   "cell_type": "code",
   "execution_count": null,
   "id": "411f911f",
   "metadata": {},
   "outputs": [],
   "source": [
    "from sklearn.tree import DecisionTreeRegressor\n",
    "from sklearn.metrics import mean_squared_error\n",
    "\n",
    "model_dt = DecisionTreeRegressor(max_depth=15, random_state=42)\n",
    "model_dt.fit(X_train, y_train)\n",
    "\n",
    "y_pred = model_dt.predict(X_test)\n",
    "error_mse = mean_squared_error(y_test, y_pred)\n",
    "error_mse"
   ]
  },
  {
   "attachments": {},
   "cell_type": "markdown",
   "id": "1dcffb9d",
   "metadata": {},
   "source": [
    "### Add the procedure inside the for loop"
   ]
  },
  {
   "cell_type": "code",
   "execution_count": null,
   "id": "9d693c23",
   "metadata": {},
   "outputs": [],
   "source": [
    "model_dt = DecisionTreeRegressor(max_depth=15, random_state=42)\n",
    "\n",
    "error_mse_list = []\n",
    "\n",
    "for index_train, index_test in ts.split(df):\n",
    "    \n",
    "    ???"
   ]
  },
  {
   "cell_type": "code",
   "execution_count": null,
   "id": "691610ea-d8b3-4dac-8579-b3b632a62487",
   "metadata": {},
   "outputs": [],
   "source": []
  },
  {
   "attachments": {},
   "cell_type": "markdown",
   "id": "4b381ac4-c140-4150-9f95-3bff60adca2b",
   "metadata": {},
   "source": [
    "## Anchored Walk Forward evaluation in backtesting"
   ]
  },
  {
   "attachments": {},
   "cell_type": "markdown",
   "id": "9233cc82",
   "metadata": {},
   "source": [
    "![](<src/10_Table_Validation Methods.png>)"
   ]
  },
  {
   "attachments": {},
   "cell_type": "markdown",
   "id": "3e9a4d80-7db7-4f64-965f-36439ffa2fee",
   "metadata": {},
   "source": [
    "### Create a new strategy"
   ]
  },
  {
   "cell_type": "code",
   "execution_count": null,
   "id": "be4c0515",
   "metadata": {},
   "outputs": [],
   "source": [
    "from backtesting import Backtest, Strategy"
   ]
  },
  {
   "cell_type": "code",
   "execution_count": null,
   "id": "8ad91bb9",
   "metadata": {},
   "outputs": [],
   "source": [
    "bt = Backtest(df, ???, cash=10000, commission=.002, exclusive_orders=True)"
   ]
  },
  {
   "cell_type": "code",
   "execution_count": null,
   "id": "6ee2f5e0",
   "metadata": {},
   "outputs": [],
   "source": [
    "class Regression(Strategy):\n",
    "    limit_buy = 1\n",
    "    limit_sell = -5\n",
    "    \n",
    "    def init(self):\n",
    "        self.model = DecisionTreeRegressor(max_depth=15, random_state=42)\n",
    "        self.already_bought = False\n",
    "        \n",
    "        X_train = ???\n",
    "        y_train = ???\n",
    "        \n",
    "        self.model.fit(X=X_train, y=y_train)\n",
    "\n",
    "    def next(self):\n",
    "        explanatory_today = self.data.df.iloc[[-1], ???]\n",
    "        forecast_tomorrow = self.model.predict(explanatory_today)[0]\n",
    "        \n",
    "        if forecast_tomorrow > self.limit_buy and self.already_bought == False:\n",
    "            self.buy()\n",
    "            self.already_bought = True\n",
    "        elif forecast_tomorrow < self.limit_sell and self.already_bought == True:\n",
    "            self.sell()\n",
    "            self.already_bought = False\n",
    "        else:\n",
    "            pass"
   ]
  },
  {
   "cell_type": "code",
   "execution_count": null,
   "id": "00c0068b",
   "metadata": {},
   "outputs": [],
   "source": [
    "class WalkForwardAnchored(Regression):\n",
    "    def next(self):\n",
    "        \n",
    "        # we don't take any action and move on to the following day\n",
    "        if len(self.data) < ???:\n",
    "            return\n",
    "        \n",
    "        # we retrain the model each x days\n",
    "        if len(self.data) % ??? == 0:\n",
    "            X_train = self.data.df.iloc[:, :-1]\n",
    "            y_train = self.data.df.iloc[:, -1]\n",
    "\n",
    "            self.model.fit(X_train, y_train)\n",
    "\n",
    "            super().next()\n",
    "            \n",
    "        else:\n",
    "            \n",
    "            super().next()"
   ]
  },
  {
   "cell_type": "code",
   "execution_count": null,
   "id": "dd460401",
   "metadata": {},
   "outputs": [],
   "source": [
    "from backtesting import Backtest\n",
    "bt = Backtest(df, WalkForwardAnchored, cash=10000, commission=.002, exclusive_orders=True)"
   ]
  },
  {
   "cell_type": "code",
   "execution_count": null,
   "id": "55b7465f",
   "metadata": {},
   "outputs": [],
   "source": [
    "import multiprocessing as mp\n",
    "mp.set_start_method('fork')"
   ]
  },
  {
   "cell_type": "code",
   "execution_count": null,
   "id": "0eab0e5e-bc9d-4cfd-ae54-c4d788235a3b",
   "metadata": {},
   "outputs": [],
   "source": [
    "stats_skopt, heatmap, optimize_result = bt.optimize(\n",
    "    limit_buy = range(0, 6), limit_sell = range(-6, 0),\n",
    "    maximize='Return [%]',\n",
    "    max_tries=500,\n",
    "    random_state=42,\n",
    "    return_heatmap=True,\n",
    "    return_optimization=True,\n",
    "    method='skopt'\n",
    "    )\n",
    "\n",
    "dff = heatmap.reset_index()\n",
    "dff = dff.sort_values('Return [%]', ascending=False)\n",
    "dff"
   ]
  },
  {
   "attachments": {},
   "cell_type": "markdown",
   "id": "5e4bb005-9451-4b3a-ad1f-68677aa0070a",
   "metadata": {},
   "source": [
    "## Unanchored Walk Forward"
   ]
  },
  {
   "attachments": {},
   "cell_type": "markdown",
   "id": "927ec43c",
   "metadata": {},
   "source": [
    "### Create a library of strategies\n",
    "\n",
    "`strategies.py`"
   ]
  },
  {
   "attachments": {},
   "cell_type": "markdown",
   "id": "a217d7d6",
   "metadata": {},
   "source": [
    "### Create the unanchored walk forward class"
   ]
  },
  {
   "attachments": {},
   "cell_type": "markdown",
   "id": "2746c22f",
   "metadata": {},
   "source": [
    "![](<src/10_Table_Validation Methods.png>)"
   ]
  },
  {
   "attachments": {},
   "cell_type": "markdown",
   "id": "b73a4767",
   "metadata": {},
   "source": [
    "### Import the strategy and perform the backtest"
   ]
  },
  {
   "cell_type": "code",
   "execution_count": null,
   "id": "dbf7436c",
   "metadata": {},
   "outputs": [],
   "source": [
    "%load_ext autoreload\n",
    "%autoreload 2"
   ]
  },
  {
   "cell_type": "code",
   "execution_count": null,
   "id": "3b0396c5",
   "metadata": {},
   "outputs": [],
   "source": [
    "import strategies"
   ]
  },
  {
   "cell_type": "code",
   "execution_count": null,
   "id": "39fe79ef",
   "metadata": {},
   "outputs": [],
   "source": [
    "strategies.WalkForwardUnanchored"
   ]
  },
  {
   "cell_type": "code",
   "execution_count": null,
   "id": "8d439835-ecfb-45d3-a5c8-eb40a26b51d9",
   "metadata": {},
   "outputs": [],
   "source": [
    "bt_unanchored = Backtest(df, strategies.WalkForwardUnanchored, cash=10000, commission=.002, exclusive_orders=True)\n",
    "\n",
    "stats_skopt, heatmap, optimize_result = bt_unanchored.optimize(\n",
    "    limit_buy = range(0, 6), limit_sell = range(-6, 0),\n",
    "    maximize='Return [%]',\n",
    "    max_tries=500,\n",
    "    random_state=42,\n",
    "    return_heatmap=True,\n",
    "    return_optimization=True,\n",
    "    method='skopt'\n",
    "    )\n",
    "\n",
    "dff = heatmap.reset_index()\n",
    "dff = dff.sort_values('Return [%]', ascending=False)\n",
    "dff"
   ]
  },
  {
   "attachments": {},
   "cell_type": "markdown",
   "id": "7eee71ca",
   "metadata": {},
   "source": [
    "### Interpret the strategies' performance\n",
    "\n",
    "- Both anchored and unanchored backtesting"
   ]
  },
  {
   "cell_type": "code",
   "execution_count": null,
   "id": "fac2e415-0ec4-4dbf-bdf4-af19513ccb18",
   "metadata": {},
   "outputs": [],
   "source": []
  },
  {
   "attachments": {},
   "cell_type": "markdown",
   "id": "7e00e681",
   "metadata": {},
   "source": [
    "## Practice to master the knowledge\n",
    "\n",
    "Work on the challenge with another dataset:\n",
    "\n",
    "1. Learn the <a>mental models</a> to solve the challenge faster.\n",
    "2. Complete the <a href=\"10C_Walk Forward Regression.ipynb\">notebook</a>."
   ]
  }
 ],
 "metadata": {
  "kernelspec": {
   "display_name": "Python 3 (ipykernel)",
   "language": "python",
   "name": "python3"
  },
  "language_info": {
   "codemirror_mode": {
    "name": "ipython",
    "version": 3
   },
   "file_extension": ".py",
   "mimetype": "text/x-python",
   "name": "python",
   "nbconvert_exporter": "python",
   "pygments_lexer": "ipython3",
   "version": "3.10.10"
  }
 },
 "nbformat": 4,
 "nbformat_minor": 5
}
