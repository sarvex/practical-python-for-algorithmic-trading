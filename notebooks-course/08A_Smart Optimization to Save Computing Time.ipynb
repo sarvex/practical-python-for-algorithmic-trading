{
 "cells": [
  {
   "attachments": {},
   "cell_type": "markdown",
   "id": "18d33b8c-9e99-4a14-aff7-c98e9989f4ac",
   "metadata": {},
   "source": [
    "# Smart Optimization to Save Computing Time"
   ]
  },
  {
   "cell_type": "code",
   "execution_count": null,
   "id": "e6d8a85c-cce6-4310-bb6b-df37a887a857",
   "metadata": {},
   "outputs": [],
   "source": [
    "???"
   ]
  },
  {
   "attachments": {},
   "cell_type": "markdown",
   "id": "a049b23f-5dc7-42b4-81bf-f885710307d5",
   "metadata": {},
   "source": [
    "<table style=\"width:100%; height:90%\">\n",
    "      <tr>\n",
    "    <th>Grid Search</th>\n",
    "    <th>Smart Search</th>\n",
    "  </tr>\n",
    "  <tr>\n",
    "    <td><img src=\"src/07_Table_Optimize BG Default Defaults.png\" alt=\"Optimizing Limits' Parameters\" style=\"width:100%\"></td>\n",
    "    <td><img src=\"src/08_Table_Smart Optimization.png\" alt=\"Parametrize the Strategy\" style=\"width:100%\"></td>\n",
    "  </tr>\n",
    "</table>"
   ]
  },
  {
   "attachments": {},
   "cell_type": "markdown",
   "id": "0a1dfade-8726-4b47-9c2c-257db8522761",
   "metadata": {},
   "source": [
    "## Load the model"
   ]
  },
  {
   "cell_type": "code",
   "execution_count": null,
   "id": "121ac0a7-5f7d-442f-9a73-59ec4735787f",
   "metadata": {},
   "outputs": [],
   "source": [
    "import pickle"
   ]
  },
  {
   "cell_type": "code",
   "execution_count": null,
   "id": "752ed6b9-62c2-4394-957a-960f8b6b6c68",
   "metadata": {},
   "outputs": [],
   "source": [
    "with open('models/model_dt_regression.pkl', 'rb') as f:\n",
    "    model_dt = pickle.load(f)"
   ]
  },
  {
   "cell_type": "code",
   "execution_count": null,
   "id": "a9cffc49-ae67-4f2e-8b1e-d73372727300",
   "metadata": {},
   "outputs": [],
   "source": [
    "model_dt"
   ]
  },
  {
   "attachments": {},
   "cell_type": "markdown",
   "id": "60ac3925-86b2-47e1-b5e3-c7abe24dc63e",
   "metadata": {},
   "source": [
    "## Load the data"
   ]
  },
  {
   "cell_type": "code",
   "execution_count": null,
   "id": "228dadf8-2ab5-4f70-864d-ab1f94004983",
   "metadata": {},
   "outputs": [],
   "source": [
    "import pandas as pd\n",
    "\n",
    "df = pd.read_excel('data/Microsoft_LinkedIn_Processed.xlsx', index_col=0, parse_dates=['Date'])\n",
    "df"
   ]
  },
  {
   "attachments": {},
   "cell_type": "markdown",
   "id": "642b89a7-c7b1-462d-b228-05f27a9d7150",
   "metadata": {},
   "source": [
    "## Parametrize & optimize the investment strategy"
   ]
  },
  {
   "attachments": {},
   "cell_type": "markdown",
   "id": "af4c28f5-c156-4971-8ee1-26f08c70d496",
   "metadata": {},
   "source": [
    "### Create Strategy class"
   ]
  },
  {
   "cell_type": "code",
   "execution_count": null,
   "id": "050d0952-da57-46dd-96e8-98a11b8e2d0a",
   "metadata": {},
   "outputs": [],
   "source": [
    "from backtesting import Strategy, Backtest"
   ]
  },
  {
   "cell_type": "code",
   "execution_count": null,
   "id": "b755eb60-1e54-46f0-89fc-bc68b4b4d3ff",
   "metadata": {},
   "outputs": [],
   "source": [
    "class SimpleRegression(Strategy):\n",
    "    limit_buy = 1\n",
    "    limit_sell = -5\n",
    "    \n",
    "    def init(self):\n",
    "        self.model = model_dt\n",
    "        self.already_bought = False\n",
    "\n",
    "    def next(self):\n",
    "        explanatory_today = self.data.df.iloc[[-1], :]\n",
    "        forecast_tomorrow = self.model.predict(explanatory_today)[0]\n",
    "        \n",
    "        if forecast_tomorrow > self.limit_buy and self.already_bought == False:\n",
    "            self.buy()\n",
    "            self.already_bought = True\n",
    "        elif forecast_tomorrow < self.limit_sell and self.already_bought == True:\n",
    "            self.sell()\n",
    "            self.already_bought = False\n",
    "        else:\n",
    "            pass"
   ]
  },
  {
   "attachments": {},
   "cell_type": "markdown",
   "id": "9094d5ca-7cc2-44d1-bb72-ca9807dd2648",
   "metadata": {},
   "source": [
    "### Create `Backtest` class"
   ]
  },
  {
   "cell_type": "code",
   "execution_count": null,
   "id": "0d3e439a-93c4-4605-8d8e-48dbfafc8abc",
   "metadata": {},
   "outputs": [],
   "source": [
    "from backtesting import Backtest"
   ]
  },
  {
   "cell_type": "code",
   "execution_count": null,
   "id": "4474775e-ddf4-435e-a38f-f4d76a25f70e",
   "metadata": {},
   "outputs": [],
   "source": [
    "df_explanatory = df[['Open', 'High', 'Low', 'Close', 'Volume']].copy()"
   ]
  },
  {
   "cell_type": "code",
   "execution_count": null,
   "id": "05414d32-8462-4778-b719-f19acb01915d",
   "metadata": {},
   "outputs": [],
   "source": [
    "bt = Backtest(df_explanatory, SimpleRegression,\n",
    "              cash=10000, commission=.002, exclusive_orders=True)"
   ]
  },
  {
   "attachments": {},
   "cell_type": "markdown",
   "id": "4d1ca71d-422c-43db-b428-f0c6ad83c70a",
   "metadata": {},
   "source": [
    "### Optimize backtesting with multiple combinations"
   ]
  },
  {
   "cell_type": "code",
   "execution_count": null,
   "id": "ba98fe7c",
   "metadata": {},
   "outputs": [],
   "source": [
    "import multiprocessing as mp\n",
    "mp.set_start_method('fork')"
   ]
  },
  {
   "cell_type": "code",
   "execution_count": null,
   "id": "2a17e673-a212-4330-8f3e-297b8ea3c7b4",
   "metadata": {},
   "outputs": [],
   "source": [
    "stats_skopt, heatmap, optimize_result = bt.optimize(\n",
    "    limit_buy=???,\n",
    "    limit_sell=???,\n",
    "    maximize='Return [%]',\n",
    "    method=???,\n",
    "    max_tries=500,\n",
    "    random_state=0,\n",
    "    return_heatmap=True,\n",
    "    return_optimization=True\n",
    "    )"
   ]
  },
  {
   "attachments": {},
   "cell_type": "markdown",
   "id": "5e6e67d5-05ab-4ef5-8167-99c4a3337a70",
   "metadata": {},
   "source": [
    "### Which are the best values for the parameters?"
   ]
  },
  {
   "cell_type": "code",
   "execution_count": null,
   "id": "1e546e57-c23e-457b-a009-bec16b86205e",
   "metadata": {},
   "outputs": [],
   "source": []
  },
  {
   "attachments": {},
   "cell_type": "markdown",
   "id": "3b7900be-d1dc-41a3-9092-ff0774aaf43e",
   "metadata": {},
   "source": [
    "### How to interpret smart optimization?"
   ]
  },
  {
   "attachments": {},
   "cell_type": "markdown",
   "id": "ec3e6dec-58ea-47b8-9f04-758513c84c19",
   "metadata": {},
   "source": [
    "#### Number of evaluations"
   ]
  },
  {
   "attachments": {},
   "cell_type": "markdown",
   "id": "9a564cda-47e8-45a6-ac08-f977cb04b650",
   "metadata": {},
   "source": [
    "https://kernc.github.io/backtesting.py/doc/examples/Parameter%20Heatmap%20&%20Optimization.html"
   ]
  },
  {
   "cell_type": "code",
   "execution_count": null,
   "id": "430ddb7b-4999-412d-a33c-3ee6e60c7698",
   "metadata": {},
   "outputs": [],
   "source": [
    "from skopt.plots import plot_evaluations\n",
    "\n",
    "_ = plot_evaluations(optimize_result, bins=10)"
   ]
  },
  {
   "attachments": {},
   "cell_type": "markdown",
   "id": "e76743bd-c27f-47c5-a310-a07a3645a7a4",
   "metadata": {},
   "source": [
    "#### Density"
   ]
  },
  {
   "cell_type": "code",
   "execution_count": null,
   "id": "d5cdc2c0-bdad-4c49-930f-072eb9368cf1",
   "metadata": {},
   "outputs": [],
   "source": [
    "from skopt.plots import plot_objective\n",
    "\n",
    "_ = plot_objective(optimize_result, n_points=10)"
   ]
  },
  {
   "attachments": {},
   "cell_type": "markdown",
   "id": "c8525ed2",
   "metadata": {},
   "source": [
    "## Practice to master the knowledge\n",
    "\n",
    "Work on the challenge with another dataset:\n",
    "\n",
    "1. Learn the <a>mental models</a> to solve the challenge faster.\n",
    "2. Complete the <a href=\"08C_Smart Optimization to Save Computing Time.ipynb\">notebook</a>."
   ]
  }
 ],
 "metadata": {
  "kernelspec": {
   "display_name": "Python 3",
   "language": "python",
   "name": "python3"
  },
  "language_info": {
   "codemirror_mode": {
    "name": "ipython",
    "version": 3
   },
   "file_extension": ".py",
   "mimetype": "text/x-python",
   "name": "python",
   "nbconvert_exporter": "python",
   "pygments_lexer": "ipython3",
   "version": "3.10.10"
  }
 },
 "nbformat": 4,
 "nbformat_minor": 5
}
