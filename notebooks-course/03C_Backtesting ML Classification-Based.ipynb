{
 "cells": [
  {
   "attachments": {},
   "cell_type": "markdown",
   "id": "1834c01c-a4e3-4064-9d85-dd51ca17cd3f",
   "metadata": {},
   "source": [
    "# Challenge: Backtest on Other Datasets"
   ]
  },
  {
   "attachments": {},
   "cell_type": "markdown",
   "id": "b62bbd66-36cd-4c33-a6f1-e102702923a5",
   "metadata": {},
   "source": [
    "## Download data from `yfinance`"
   ]
  },
  {
   "cell_type": "code",
   "execution_count": null,
   "id": "6413f2e3-656e-4847-be24-fc179bec23ac",
   "metadata": {},
   "outputs": [],
   "source": [
    "import yfinance as yf"
   ]
  },
  {
   "cell_type": "code",
   "execution_count": null,
   "id": "a3f91d9e-1d90-4111-a92d-119a74f6ba7d",
   "metadata": {},
   "outputs": [],
   "source": [
    "yf."
   ]
  },
  {
   "cell_type": "code",
   "execution_count": null,
   "id": "5389f805",
   "metadata": {},
   "outputs": [],
   "source": []
  },
  {
   "attachments": {},
   "cell_type": "markdown",
   "id": "89c73f63-3a7b-4d80-9b1a-e81c905cc10c",
   "metadata": {},
   "source": [
    "## Preprocess the data"
   ]
  },
  {
   "attachments": {},
   "cell_type": "markdown",
   "id": "320cc06b-feda-4c12-a203-f4b16ff980d3",
   "metadata": {},
   "source": [
    "### Filter the date range\n",
    "\n",
    "- Since 1 year ago at least"
   ]
  },
  {
   "cell_type": "code",
   "execution_count": null,
   "id": "c2196bbb-1f78-4b6a-a6e7-fe7d476f977a",
   "metadata": {},
   "outputs": [],
   "source": []
  },
  {
   "attachments": {},
   "cell_type": "markdown",
   "id": "c33425fb-4c7b-4e22-8db9-6203c789ec44",
   "metadata": {},
   "source": [
    "### Create the target variable\n",
    "\n",
    "#### Percentage change\n",
    "\n",
    "- Percentage change on `Adj Close` for tomorrow"
   ]
  },
  {
   "cell_type": "code",
   "execution_count": null,
   "id": "3494df13-ae8d-4aa2-bd03-29af1eb34bee",
   "metadata": {},
   "outputs": [],
   "source": []
  },
  {
   "attachments": {},
   "cell_type": "markdown",
   "id": "de5a655d-7bed-484f-b19b-67e356bd6802",
   "metadata": {},
   "source": [
    "#### Drop rows with any missing data"
   ]
  },
  {
   "cell_type": "code",
   "execution_count": null,
   "id": "21684b4e-ffb8-426b-a5b5-a7d96c9d2df0",
   "metadata": {},
   "outputs": [],
   "source": []
  },
  {
   "attachments": {},
   "cell_type": "markdown",
   "id": "c1acc712-f434-4719-acd7-fad2600c1473",
   "metadata": {},
   "source": [
    "#### Change sign\n",
    "\n",
    "Did the stock go up or down?"
   ]
  },
  {
   "cell_type": "code",
   "execution_count": null,
   "id": "03d867e6-c8c4-45b5-9b01-d6ce9761cabd",
   "metadata": {},
   "outputs": [],
   "source": []
  },
  {
   "attachments": {},
   "cell_type": "markdown",
   "id": "b3196153-c4af-4863-b1be-1017deefa2f5",
   "metadata": {},
   "source": [
    "## Compute Machine Learning model\n",
    "\n",
    "Proposal: Random Forest within `ensemble` module of `sklearn` library"
   ]
  },
  {
   "cell_type": "code",
   "execution_count": null,
   "id": "7884de1a-3f66-4af6-8c44-2b9ce486f716",
   "metadata": {},
   "outputs": [],
   "source": []
  },
  {
   "attachments": {},
   "cell_type": "markdown",
   "id": "2072c20e-d9dd-4620-a658-8aa2988aec2c",
   "metadata": {},
   "source": [
    "## Backtesting"
   ]
  },
  {
   "attachments": {},
   "cell_type": "markdown",
   "id": "88943e4c-b9bd-41d0-b679-25f1a28c0171",
   "metadata": {},
   "source": [
    "### Create the Strategy"
   ]
  },
  {
   "cell_type": "code",
   "execution_count": null,
   "id": "36846232-ac80-4759-9b09-27781888c78b",
   "metadata": {},
   "outputs": [],
   "source": [
    "from backtesting import "
   ]
  },
  {
   "attachments": {},
   "cell_type": "markdown",
   "id": "5b01b553-3322-45a5-a4d6-7599aaa81eef",
   "metadata": {},
   "source": [
    "### Run the Backtest"
   ]
  },
  {
   "cell_type": "code",
   "execution_count": null,
   "id": "8e866dee-4108-4133-af4b-9ebe36c17f82",
   "metadata": {},
   "outputs": [],
   "source": [
    "bt = Backtest(\n",
    "    ???, ???, cash=10000,\n",
    "    commission=.002, exclusive_orders=True\n",
    ")"
   ]
  },
  {
   "attachments": {},
   "cell_type": "markdown",
   "id": "8c912ebe-6f57-4b7b-bf06-469f1c339694",
   "metadata": {},
   "source": [
    "### Show the report in a DataFrame"
   ]
  },
  {
   "cell_type": "code",
   "execution_count": null,
   "id": "2cfeaf99-3afd-412e-b17e-9b1bbeae921a",
   "metadata": {},
   "outputs": [],
   "source": []
  },
  {
   "attachments": {},
   "cell_type": "markdown",
   "id": "4f7eb460-df2f-43a9-a358-67ef9e0606b1",
   "metadata": {},
   "source": [
    "## Plot the backtest report"
   ]
  },
  {
   "attachments": {},
   "cell_type": "markdown",
   "id": "310b3349-d3ab-4c84-a806-a1819faf8e4e",
   "metadata": {},
   "source": [
    "> Don't worry about this new tool just yet, we will explain in a future chapter how to interpret the following chart."
   ]
  },
  {
   "cell_type": "code",
   "execution_count": null,
   "id": "ab7d8157-3278-42a3-8cb8-6717caeb64bf",
   "metadata": {},
   "outputs": [],
   "source": []
  },
  {
   "attachments": {},
   "cell_type": "markdown",
   "id": "33366f1a",
   "metadata": {},
   "source": [
    "## How to invest based on the numerical increase?\n",
    "\n",
    "> Instead of the direction (UP or DOWN)\n",
    "\n",
    "Next chapter → [Backtesting with Regression Models]()"
   ]
  },
  {
   "attachments": {},
   "cell_type": "markdown",
   "id": "b21f8382",
   "metadata": {},
   "source": [
    "Classification Model | Regression Model\n",
    "-|-\n",
    "![](src/pred_classification.png) | ![](src/pred_regression.png)"
   ]
  },
  {
   "attachments": {},
   "cell_type": "markdown",
   "id": "c7f8eb5b",
   "metadata": {},
   "source": [
    "Classification Strategy | Regression Strategy\n",
    "-|-\n",
    "![](src/res_classification.png) | ![](src/res_regression.png)"
   ]
  }
 ],
 "metadata": {
  "kernelspec": {
   "display_name": "Python 3",
   "language": "python",
   "name": "python3"
  },
  "language_info": {
   "codemirror_mode": {
    "name": "ipython",
    "version": 3
   },
   "file_extension": ".py",
   "mimetype": "text/x-python",
   "name": "python",
   "nbconvert_exporter": "python",
   "pygments_lexer": "ipython3",
   "version": "3.10.10"
  }
 },
 "nbformat": 4,
 "nbformat_minor": 5
}
