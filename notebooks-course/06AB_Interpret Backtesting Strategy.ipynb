{
 "cells": [
  {
   "cell_type": "markdown",
   "id": "a165725c-84eb-4f9f-a9f8-fc25c002c731",
   "metadata": {},
   "source": [
    "# Interpret Backtesting Strategy"
   ]
  },
  {
   "attachments": {},
   "cell_type": "markdown",
   "id": "5138b9dc-fa43-45e5-8fb5-752c6bc58349",
   "metadata": {},
   "source": [
    "Open the two backtesting reports and compare the simulations:\n",
    "\n",
    "1. Backtesting [classification-based](reports_backtesting/classification.html)\n",
    "2. Backtesting [regression-based](reports_backtesting/regression.html)"
   ]
  }
 ],
 "metadata": {
  "kernelspec": {
   "display_name": "Python 3 (ipykernel)",
   "language": "python",
   "name": "python3"
  },
  "language_info": {
   "codemirror_mode": {
    "name": "ipython",
    "version": 3
   },
   "file_extension": ".py",
   "mimetype": "text/x-python",
   "name": "python",
   "nbconvert_exporter": "python",
   "pygments_lexer": "ipython3",
   "version": "3.10.6"
  }
 },
 "nbformat": 4,
 "nbformat_minor": 5
}
