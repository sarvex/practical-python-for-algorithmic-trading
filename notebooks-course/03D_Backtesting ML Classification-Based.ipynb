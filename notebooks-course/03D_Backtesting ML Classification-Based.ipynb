{
 "cells": [
  {
   "attachments": {},
   "cell_type": "markdown",
   "id": "1834c01c-a4e3-4064-9d85-dd51ca17cd3f",
   "metadata": {},
   "source": [
    "# Challenge: Backtest on Other Datasets"
   ]
  },
  {
   "attachments": {},
   "cell_type": "markdown",
   "id": "b62bbd66-36cd-4c33-a6f1-e102702923a5",
   "metadata": {},
   "source": [
    "## Download data from `yfinance`"
   ]
  },
  {
   "cell_type": "code",
   "execution_count": 1,
   "id": "6413f2e3-656e-4847-be24-fc179bec23ac",
   "metadata": {},
   "outputs": [
    {
     "name": "stdout",
     "output_type": "stream",
     "text": [
      "[*********************100%***********************]  1 of 1 completed\n"
     ]
    },
    {
     "data": {
      "text/html": [
       "<div>\n",
       "<style scoped>\n",
       "    .dataframe tbody tr th:only-of-type {\n",
       "        vertical-align: middle;\n",
       "    }\n",
       "\n",
       "    .dataframe tbody tr th {\n",
       "        vertical-align: top;\n",
       "    }\n",
       "\n",
       "    .dataframe thead th {\n",
       "        text-align: right;\n",
       "    }\n",
       "</style>\n",
       "<table border=\"1\" class=\"dataframe\">\n",
       "  <thead>\n",
       "    <tr style=\"text-align: right;\">\n",
       "      <th></th>\n",
       "      <th>Open</th>\n",
       "      <th>High</th>\n",
       "      <th>Low</th>\n",
       "      <th>Close</th>\n",
       "      <th>Adj Close</th>\n",
       "      <th>Volume</th>\n",
       "    </tr>\n",
       "    <tr>\n",
       "      <th>Date</th>\n",
       "      <th></th>\n",
       "      <th></th>\n",
       "      <th></th>\n",
       "      <th></th>\n",
       "      <th></th>\n",
       "      <th></th>\n",
       "    </tr>\n",
       "  </thead>\n",
       "  <tbody>\n",
       "    <tr>\n",
       "      <th>2002-05-23</th>\n",
       "      <td>1.156429</td>\n",
       "      <td>1.242857</td>\n",
       "      <td>1.145714</td>\n",
       "      <td>1.196429</td>\n",
       "      <td>1.196429</td>\n",
       "      <td>104790000</td>\n",
       "    </tr>\n",
       "    <tr>\n",
       "      <th>2002-05-24</th>\n",
       "      <td>1.214286</td>\n",
       "      <td>1.225000</td>\n",
       "      <td>1.197143</td>\n",
       "      <td>1.210000</td>\n",
       "      <td>1.210000</td>\n",
       "      <td>11104800</td>\n",
       "    </tr>\n",
       "    <tr>\n",
       "      <th>...</th>\n",
       "      <td>...</td>\n",
       "      <td>...</td>\n",
       "      <td>...</td>\n",
       "      <td>...</td>\n",
       "      <td>...</td>\n",
       "      <td>...</td>\n",
       "    </tr>\n",
       "    <tr>\n",
       "      <th>2023-05-15</th>\n",
       "      <td>340.619995</td>\n",
       "      <td>341.899994</td>\n",
       "      <td>335.540009</td>\n",
       "      <td>335.890015</td>\n",
       "      <td>335.890015</td>\n",
       "      <td>3653000</td>\n",
       "    </tr>\n",
       "    <tr>\n",
       "      <th>2023-05-16</th>\n",
       "      <td>334.000000</td>\n",
       "      <td>335.170013</td>\n",
       "      <td>331.910004</td>\n",
       "      <td>333.750000</td>\n",
       "      <td>333.750000</td>\n",
       "      <td>3332200</td>\n",
       "    </tr>\n",
       "  </tbody>\n",
       "</table>\n",
       "<p>5282 rows × 6 columns</p>\n",
       "</div>"
      ],
      "text/plain": [
       "                  Open        High         Low       Close   Adj Close  \\\n",
       "Date                                                                     \n",
       "2002-05-23    1.156429    1.242857    1.145714    1.196429    1.196429   \n",
       "2002-05-24    1.214286    1.225000    1.197143    1.210000    1.210000   \n",
       "...                ...         ...         ...         ...         ...   \n",
       "2023-05-15  340.619995  341.899994  335.540009  335.890015  335.890015   \n",
       "2023-05-16  334.000000  335.170013  331.910004  333.750000  333.750000   \n",
       "\n",
       "               Volume  \n",
       "Date                   \n",
       "2002-05-23  104790000  \n",
       "2002-05-24   11104800  \n",
       "...               ...  \n",
       "2023-05-15    3653000  \n",
       "2023-05-16    3332200  \n",
       "\n",
       "[5282 rows x 6 columns]"
      ]
     },
     "execution_count": 1,
     "metadata": {},
     "output_type": "execute_result"
    }
   ],
   "source": [
    "import yfinance as yf\n",
    "\n",
    "ticker = 'NFLX'\n",
    "df = yf.download(ticker)\n",
    "df"
   ]
  },
  {
   "attachments": {},
   "cell_type": "markdown",
   "id": "89c73f63-3a7b-4d80-9b1a-e81c905cc10c",
   "metadata": {},
   "source": [
    "## Preprocess the data"
   ]
  },
  {
   "attachments": {},
   "cell_type": "markdown",
   "id": "320cc06b-feda-4c12-a203-f4b16ff980d3",
   "metadata": {},
   "source": [
    "### Filter the date range\n",
    "\n",
    "- Since 1 year ago at least"
   ]
  },
  {
   "cell_type": "code",
   "execution_count": 2,
   "id": "e8e273bd-194b-4d14-899d-26bb852d6f16",
   "metadata": {},
   "outputs": [
    {
     "data": {
      "text/html": [
       "<div>\n",
       "<style scoped>\n",
       "    .dataframe tbody tr th:only-of-type {\n",
       "        vertical-align: middle;\n",
       "    }\n",
       "\n",
       "    .dataframe tbody tr th {\n",
       "        vertical-align: top;\n",
       "    }\n",
       "\n",
       "    .dataframe thead th {\n",
       "        text-align: right;\n",
       "    }\n",
       "</style>\n",
       "<table border=\"1\" class=\"dataframe\">\n",
       "  <thead>\n",
       "    <tr style=\"text-align: right;\">\n",
       "      <th></th>\n",
       "      <th>Open</th>\n",
       "      <th>High</th>\n",
       "      <th>Low</th>\n",
       "      <th>Close</th>\n",
       "      <th>Adj Close</th>\n",
       "      <th>Volume</th>\n",
       "    </tr>\n",
       "    <tr>\n",
       "      <th>Date</th>\n",
       "      <th></th>\n",
       "      <th></th>\n",
       "      <th></th>\n",
       "      <th></th>\n",
       "      <th></th>\n",
       "      <th></th>\n",
       "    </tr>\n",
       "  </thead>\n",
       "  <tbody>\n",
       "    <tr>\n",
       "      <th>2020-01-02</th>\n",
       "      <td>326.100006</td>\n",
       "      <td>329.980011</td>\n",
       "      <td>324.779999</td>\n",
       "      <td>329.809998</td>\n",
       "      <td>329.809998</td>\n",
       "      <td>4485800</td>\n",
       "    </tr>\n",
       "    <tr>\n",
       "      <th>2020-01-03</th>\n",
       "      <td>326.779999</td>\n",
       "      <td>329.859985</td>\n",
       "      <td>325.529999</td>\n",
       "      <td>325.899994</td>\n",
       "      <td>325.899994</td>\n",
       "      <td>3806900</td>\n",
       "    </tr>\n",
       "    <tr>\n",
       "      <th>...</th>\n",
       "      <td>...</td>\n",
       "      <td>...</td>\n",
       "      <td>...</td>\n",
       "      <td>...</td>\n",
       "      <td>...</td>\n",
       "      <td>...</td>\n",
       "    </tr>\n",
       "    <tr>\n",
       "      <th>2023-05-15</th>\n",
       "      <td>340.619995</td>\n",
       "      <td>341.899994</td>\n",
       "      <td>335.540009</td>\n",
       "      <td>335.890015</td>\n",
       "      <td>335.890015</td>\n",
       "      <td>3653000</td>\n",
       "    </tr>\n",
       "    <tr>\n",
       "      <th>2023-05-16</th>\n",
       "      <td>334.000000</td>\n",
       "      <td>335.170013</td>\n",
       "      <td>331.910004</td>\n",
       "      <td>333.750000</td>\n",
       "      <td>333.750000</td>\n",
       "      <td>3332200</td>\n",
       "    </tr>\n",
       "  </tbody>\n",
       "</table>\n",
       "<p>849 rows × 6 columns</p>\n",
       "</div>"
      ],
      "text/plain": [
       "                  Open        High         Low       Close   Adj Close  \\\n",
       "Date                                                                     \n",
       "2020-01-02  326.100006  329.980011  324.779999  329.809998  329.809998   \n",
       "2020-01-03  326.779999  329.859985  325.529999  325.899994  325.899994   \n",
       "...                ...         ...         ...         ...         ...   \n",
       "2023-05-15  340.619995  341.899994  335.540009  335.890015  335.890015   \n",
       "2023-05-16  334.000000  335.170013  331.910004  333.750000  333.750000   \n",
       "\n",
       "             Volume  \n",
       "Date                 \n",
       "2020-01-02  4485800  \n",
       "2020-01-03  3806900  \n",
       "...             ...  \n",
       "2023-05-15  3653000  \n",
       "2023-05-16  3332200  \n",
       "\n",
       "[849 rows x 6 columns]"
      ]
     },
     "execution_count": 2,
     "metadata": {},
     "output_type": "execute_result"
    }
   ],
   "source": [
    "df = df.loc['2020-01-01':].copy()\n",
    "df"
   ]
  },
  {
   "attachments": {},
   "cell_type": "markdown",
   "id": "c33425fb-4c7b-4e22-8db9-6203c789ec44",
   "metadata": {},
   "source": [
    "### Create the target variable\n",
    "\n",
    "#### Percentage change\n",
    "\n",
    "- Percentage change on `Adj Close` for tomorrow"
   ]
  },
  {
   "cell_type": "code",
   "execution_count": 3,
   "id": "4bbcb75e-5cfe-4f26-a3e1-fee6055e750b",
   "metadata": {},
   "outputs": [
    {
     "data": {
      "text/plain": [
       "Date\n",
       "2020-01-02    0.011998\n",
       "2020-01-03   -0.029569\n",
       "                ...   \n",
       "2023-05-15    0.006412\n",
       "2023-05-16         NaN\n",
       "Name: change_tomorrow, Length: 849, dtype: float64"
      ]
     },
     "execution_count": 3,
     "metadata": {},
     "output_type": "execute_result"
    }
   ],
   "source": [
    "df['change_tomorrow'] = df['Adj Close'].pct_change(-1)\n",
    "df.change_tomorrow"
   ]
  },
  {
   "attachments": {},
   "cell_type": "markdown",
   "id": "779bd814-49f7-4f90-b9bd-0b1eef7b5589",
   "metadata": {},
   "source": [
    "If you look at the change from the first day to the next one, the price decreases. Therefore, the first value of the previous output should be negative."
   ]
  },
  {
   "cell_type": "code",
   "execution_count": 4,
   "id": "0e949405-f822-42d7-8820-725355490bf6",
   "metadata": {},
   "outputs": [
    {
     "data": {
      "text/plain": [
       "Date\n",
       "2020-01-02    329.809998\n",
       "2020-01-03    325.899994\n",
       "                 ...    \n",
       "2023-05-15    335.890015\n",
       "2023-05-16    333.750000\n",
       "Name: Adj Close, Length: 849, dtype: float64"
      ]
     },
     "execution_count": 4,
     "metadata": {},
     "output_type": "execute_result"
    }
   ],
   "source": [
    "df['Adj Close']"
   ]
  },
  {
   "attachments": {},
   "cell_type": "markdown",
   "id": "47060fff-9fb9-44ab-b2e0-0ccc77561013",
   "metadata": {},
   "source": [
    "We shall multiply by -1:"
   ]
  },
  {
   "cell_type": "code",
   "execution_count": 5,
   "id": "61cb25d2-6ae0-4b20-aeaf-ce01cbfef1b1",
   "metadata": {},
   "outputs": [
    {
     "data": {
      "text/html": [
       "<div>\n",
       "<style scoped>\n",
       "    .dataframe tbody tr th:only-of-type {\n",
       "        vertical-align: middle;\n",
       "    }\n",
       "\n",
       "    .dataframe tbody tr th {\n",
       "        vertical-align: top;\n",
       "    }\n",
       "\n",
       "    .dataframe thead th {\n",
       "        text-align: right;\n",
       "    }\n",
       "</style>\n",
       "<table border=\"1\" class=\"dataframe\">\n",
       "  <thead>\n",
       "    <tr style=\"text-align: right;\">\n",
       "      <th></th>\n",
       "      <th>Open</th>\n",
       "      <th>High</th>\n",
       "      <th>Low</th>\n",
       "      <th>Close</th>\n",
       "      <th>Adj Close</th>\n",
       "      <th>Volume</th>\n",
       "      <th>change_tomorrow</th>\n",
       "    </tr>\n",
       "    <tr>\n",
       "      <th>Date</th>\n",
       "      <th></th>\n",
       "      <th></th>\n",
       "      <th></th>\n",
       "      <th></th>\n",
       "      <th></th>\n",
       "      <th></th>\n",
       "      <th></th>\n",
       "    </tr>\n",
       "  </thead>\n",
       "  <tbody>\n",
       "    <tr>\n",
       "      <th>2020-01-02</th>\n",
       "      <td>326.100006</td>\n",
       "      <td>329.980011</td>\n",
       "      <td>324.779999</td>\n",
       "      <td>329.809998</td>\n",
       "      <td>329.809998</td>\n",
       "      <td>4485800</td>\n",
       "      <td>-0.011998</td>\n",
       "    </tr>\n",
       "    <tr>\n",
       "      <th>2020-01-03</th>\n",
       "      <td>326.779999</td>\n",
       "      <td>329.859985</td>\n",
       "      <td>325.529999</td>\n",
       "      <td>325.899994</td>\n",
       "      <td>325.899994</td>\n",
       "      <td>3806900</td>\n",
       "      <td>0.029569</td>\n",
       "    </tr>\n",
       "    <tr>\n",
       "      <th>...</th>\n",
       "      <td>...</td>\n",
       "      <td>...</td>\n",
       "      <td>...</td>\n",
       "      <td>...</td>\n",
       "      <td>...</td>\n",
       "      <td>...</td>\n",
       "      <td>...</td>\n",
       "    </tr>\n",
       "    <tr>\n",
       "      <th>2023-05-15</th>\n",
       "      <td>340.619995</td>\n",
       "      <td>341.899994</td>\n",
       "      <td>335.540009</td>\n",
       "      <td>335.890015</td>\n",
       "      <td>335.890015</td>\n",
       "      <td>3653000</td>\n",
       "      <td>-0.006412</td>\n",
       "    </tr>\n",
       "    <tr>\n",
       "      <th>2023-05-16</th>\n",
       "      <td>334.000000</td>\n",
       "      <td>335.170013</td>\n",
       "      <td>331.910004</td>\n",
       "      <td>333.750000</td>\n",
       "      <td>333.750000</td>\n",
       "      <td>3332200</td>\n",
       "      <td>NaN</td>\n",
       "    </tr>\n",
       "  </tbody>\n",
       "</table>\n",
       "<p>849 rows × 7 columns</p>\n",
       "</div>"
      ],
      "text/plain": [
       "                  Open        High         Low       Close   Adj Close  \\\n",
       "Date                                                                     \n",
       "2020-01-02  326.100006  329.980011  324.779999  329.809998  329.809998   \n",
       "2020-01-03  326.779999  329.859985  325.529999  325.899994  325.899994   \n",
       "...                ...         ...         ...         ...         ...   \n",
       "2023-05-15  340.619995  341.899994  335.540009  335.890015  335.890015   \n",
       "2023-05-16  334.000000  335.170013  331.910004  333.750000  333.750000   \n",
       "\n",
       "             Volume  change_tomorrow  \n",
       "Date                                  \n",
       "2020-01-02  4485800        -0.011998  \n",
       "2020-01-03  3806900         0.029569  \n",
       "...             ...              ...  \n",
       "2023-05-15  3653000        -0.006412  \n",
       "2023-05-16  3332200              NaN  \n",
       "\n",
       "[849 rows x 7 columns]"
      ]
     },
     "execution_count": 5,
     "metadata": {},
     "output_type": "execute_result"
    }
   ],
   "source": [
    "df.change_tomorrow = df.change_tomorrow * -1\n",
    "df"
   ]
  },
  {
   "attachments": {},
   "cell_type": "markdown",
   "id": "a7bc75ae-652f-4e9a-810d-adc207475622",
   "metadata": {},
   "source": [
    "To better read the data, we shall multiply by 100 to have percentage values:"
   ]
  },
  {
   "cell_type": "code",
   "execution_count": 6,
   "id": "9ce83083-383f-472e-9c9f-4ff0c9712591",
   "metadata": {},
   "outputs": [
    {
     "data": {
      "text/html": [
       "<div>\n",
       "<style scoped>\n",
       "    .dataframe tbody tr th:only-of-type {\n",
       "        vertical-align: middle;\n",
       "    }\n",
       "\n",
       "    .dataframe tbody tr th {\n",
       "        vertical-align: top;\n",
       "    }\n",
       "\n",
       "    .dataframe thead th {\n",
       "        text-align: right;\n",
       "    }\n",
       "</style>\n",
       "<table border=\"1\" class=\"dataframe\">\n",
       "  <thead>\n",
       "    <tr style=\"text-align: right;\">\n",
       "      <th></th>\n",
       "      <th>Open</th>\n",
       "      <th>High</th>\n",
       "      <th>Low</th>\n",
       "      <th>Close</th>\n",
       "      <th>Adj Close</th>\n",
       "      <th>Volume</th>\n",
       "      <th>change_tomorrow</th>\n",
       "    </tr>\n",
       "    <tr>\n",
       "      <th>Date</th>\n",
       "      <th></th>\n",
       "      <th></th>\n",
       "      <th></th>\n",
       "      <th></th>\n",
       "      <th></th>\n",
       "      <th></th>\n",
       "      <th></th>\n",
       "    </tr>\n",
       "  </thead>\n",
       "  <tbody>\n",
       "    <tr>\n",
       "      <th>2020-01-02</th>\n",
       "      <td>326.100006</td>\n",
       "      <td>329.980011</td>\n",
       "      <td>324.779999</td>\n",
       "      <td>329.809998</td>\n",
       "      <td>329.809998</td>\n",
       "      <td>4485800</td>\n",
       "      <td>-1.199756</td>\n",
       "    </tr>\n",
       "    <tr>\n",
       "      <th>2020-01-03</th>\n",
       "      <td>326.779999</td>\n",
       "      <td>329.859985</td>\n",
       "      <td>325.529999</td>\n",
       "      <td>325.899994</td>\n",
       "      <td>325.899994</td>\n",
       "      <td>3806900</td>\n",
       "      <td>2.956851</td>\n",
       "    </tr>\n",
       "    <tr>\n",
       "      <th>...</th>\n",
       "      <td>...</td>\n",
       "      <td>...</td>\n",
       "      <td>...</td>\n",
       "      <td>...</td>\n",
       "      <td>...</td>\n",
       "      <td>...</td>\n",
       "      <td>...</td>\n",
       "    </tr>\n",
       "    <tr>\n",
       "      <th>2023-05-15</th>\n",
       "      <td>340.619995</td>\n",
       "      <td>341.899994</td>\n",
       "      <td>335.540009</td>\n",
       "      <td>335.890015</td>\n",
       "      <td>335.890015</td>\n",
       "      <td>3653000</td>\n",
       "      <td>-0.641203</td>\n",
       "    </tr>\n",
       "    <tr>\n",
       "      <th>2023-05-16</th>\n",
       "      <td>334.000000</td>\n",
       "      <td>335.170013</td>\n",
       "      <td>331.910004</td>\n",
       "      <td>333.750000</td>\n",
       "      <td>333.750000</td>\n",
       "      <td>3332200</td>\n",
       "      <td>NaN</td>\n",
       "    </tr>\n",
       "  </tbody>\n",
       "</table>\n",
       "<p>849 rows × 7 columns</p>\n",
       "</div>"
      ],
      "text/plain": [
       "                  Open        High         Low       Close   Adj Close  \\\n",
       "Date                                                                     \n",
       "2020-01-02  326.100006  329.980011  324.779999  329.809998  329.809998   \n",
       "2020-01-03  326.779999  329.859985  325.529999  325.899994  325.899994   \n",
       "...                ...         ...         ...         ...         ...   \n",
       "2023-05-15  340.619995  341.899994  335.540009  335.890015  335.890015   \n",
       "2023-05-16  334.000000  335.170013  331.910004  333.750000  333.750000   \n",
       "\n",
       "             Volume  change_tomorrow  \n",
       "Date                                  \n",
       "2020-01-02  4485800        -1.199756  \n",
       "2020-01-03  3806900         2.956851  \n",
       "...             ...              ...  \n",
       "2023-05-15  3653000        -0.641203  \n",
       "2023-05-16  3332200              NaN  \n",
       "\n",
       "[849 rows x 7 columns]"
      ]
     },
     "execution_count": 6,
     "metadata": {},
     "output_type": "execute_result"
    }
   ],
   "source": [
    "df.change_tomorrow = df.change_tomorrow * 100\n",
    "df"
   ]
  },
  {
   "attachments": {},
   "cell_type": "markdown",
   "id": "de5a655d-7bed-484f-b19b-67e356bd6802",
   "metadata": {},
   "source": [
    "#### Drop rows with any missing data"
   ]
  },
  {
   "cell_type": "code",
   "execution_count": 7,
   "id": "e2b8a782-f385-4ead-80ce-5f1b22b630b0",
   "metadata": {},
   "outputs": [
    {
     "data": {
      "text/html": [
       "<div>\n",
       "<style scoped>\n",
       "    .dataframe tbody tr th:only-of-type {\n",
       "        vertical-align: middle;\n",
       "    }\n",
       "\n",
       "    .dataframe tbody tr th {\n",
       "        vertical-align: top;\n",
       "    }\n",
       "\n",
       "    .dataframe thead th {\n",
       "        text-align: right;\n",
       "    }\n",
       "</style>\n",
       "<table border=\"1\" class=\"dataframe\">\n",
       "  <thead>\n",
       "    <tr style=\"text-align: right;\">\n",
       "      <th></th>\n",
       "      <th>Open</th>\n",
       "      <th>High</th>\n",
       "      <th>Low</th>\n",
       "      <th>Close</th>\n",
       "      <th>Adj Close</th>\n",
       "      <th>Volume</th>\n",
       "      <th>change_tomorrow</th>\n",
       "    </tr>\n",
       "    <tr>\n",
       "      <th>Date</th>\n",
       "      <th></th>\n",
       "      <th></th>\n",
       "      <th></th>\n",
       "      <th></th>\n",
       "      <th></th>\n",
       "      <th></th>\n",
       "      <th></th>\n",
       "    </tr>\n",
       "  </thead>\n",
       "  <tbody>\n",
       "    <tr>\n",
       "      <th>2020-01-02</th>\n",
       "      <td>326.100006</td>\n",
       "      <td>329.980011</td>\n",
       "      <td>324.779999</td>\n",
       "      <td>329.809998</td>\n",
       "      <td>329.809998</td>\n",
       "      <td>4485800</td>\n",
       "      <td>-1.199756</td>\n",
       "    </tr>\n",
       "    <tr>\n",
       "      <th>2020-01-03</th>\n",
       "      <td>326.779999</td>\n",
       "      <td>329.859985</td>\n",
       "      <td>325.529999</td>\n",
       "      <td>325.899994</td>\n",
       "      <td>325.899994</td>\n",
       "      <td>3806900</td>\n",
       "      <td>2.956851</td>\n",
       "    </tr>\n",
       "    <tr>\n",
       "      <th>...</th>\n",
       "      <td>...</td>\n",
       "      <td>...</td>\n",
       "      <td>...</td>\n",
       "      <td>...</td>\n",
       "      <td>...</td>\n",
       "      <td>...</td>\n",
       "      <td>...</td>\n",
       "    </tr>\n",
       "    <tr>\n",
       "      <th>2023-05-12</th>\n",
       "      <td>344.760010</td>\n",
       "      <td>348.170013</td>\n",
       "      <td>337.359985</td>\n",
       "      <td>339.890015</td>\n",
       "      <td>339.890015</td>\n",
       "      <td>6079900</td>\n",
       "      <td>-1.190866</td>\n",
       "    </tr>\n",
       "    <tr>\n",
       "      <th>2023-05-15</th>\n",
       "      <td>340.619995</td>\n",
       "      <td>341.899994</td>\n",
       "      <td>335.540009</td>\n",
       "      <td>335.890015</td>\n",
       "      <td>335.890015</td>\n",
       "      <td>3653000</td>\n",
       "      <td>-0.641203</td>\n",
       "    </tr>\n",
       "  </tbody>\n",
       "</table>\n",
       "<p>848 rows × 7 columns</p>\n",
       "</div>"
      ],
      "text/plain": [
       "                  Open        High         Low       Close   Adj Close  \\\n",
       "Date                                                                     \n",
       "2020-01-02  326.100006  329.980011  324.779999  329.809998  329.809998   \n",
       "2020-01-03  326.779999  329.859985  325.529999  325.899994  325.899994   \n",
       "...                ...         ...         ...         ...         ...   \n",
       "2023-05-12  344.760010  348.170013  337.359985  339.890015  339.890015   \n",
       "2023-05-15  340.619995  341.899994  335.540009  335.890015  335.890015   \n",
       "\n",
       "             Volume  change_tomorrow  \n",
       "Date                                  \n",
       "2020-01-02  4485800        -1.199756  \n",
       "2020-01-03  3806900         2.956851  \n",
       "...             ...              ...  \n",
       "2023-05-12  6079900        -1.190866  \n",
       "2023-05-15  3653000        -0.641203  \n",
       "\n",
       "[848 rows x 7 columns]"
      ]
     },
     "execution_count": 7,
     "metadata": {},
     "output_type": "execute_result"
    }
   ],
   "source": [
    "df = df.dropna().copy()\n",
    "df"
   ]
  },
  {
   "attachments": {},
   "cell_type": "markdown",
   "id": "be5a0d4b-0171-45c9-b929-77fd5eb83491",
   "metadata": {},
   "source": [
    "#### BONUS: how to interpret the distribution of a continuous variable"
   ]
  },
  {
   "attachments": {},
   "cell_type": "markdown",
   "id": "a63b46f0-41bf-4393-b52e-6767ac912b75",
   "metadata": {},
   "source": [
    "Based on the following normal distribution:"
   ]
  },
  {
   "cell_type": "code",
   "execution_count": 8,
   "id": "304b5912-667d-4340-b9fc-032e26d7870e",
   "metadata": {},
   "outputs": [
    {
     "data": {
      "image/png": "[encoded data removed]",
      "text/plain": [
       "<Figure size 640x480 with 1 Axes>"
      ]
     },
     "metadata": {},
     "output_type": "display_data"
    }
   ],
   "source": [
    "df.change_tomorrow.hist(bins=range(-15,15), edgecolor='black');"
   ]
  },
  {
   "attachments": {},
   "cell_type": "markdown",
   "id": "359b5200-cead-48d5-af0c-4bc610ff1871",
   "metadata": {},
   "source": [
    "And the standard deviation:"
   ]
  },
  {
   "cell_type": "code",
   "execution_count": 9,
   "id": "e9605fc0-d6f1-4439-be45-b3f4df5fd2a2",
   "metadata": {},
   "outputs": [
    {
     "data": {
      "text/plain": [
       "3.4992920101560014"
      ]
     },
     "execution_count": 9,
     "metadata": {},
     "output_type": "execute_result"
    }
   ],
   "source": [
    "df.change_tomorrow.std()"
   ]
  },
  {
   "attachments": {},
   "cell_type": "markdown",
   "id": "51cf6739-0ec9-4cd4-9b97-be97b94f8ead",
   "metadata": {},
   "source": [
    "We can say that 68% of the changes are between -3.5 and 3.5, approximately."
   ]
  },
  {
   "attachments": {},
   "cell_type": "markdown",
   "id": "c1acc712-f434-4719-acd7-fad2600c1473",
   "metadata": {},
   "source": [
    "#### Change sign\n",
    "\n",
    "Did the stock go up or down?"
   ]
  },
  {
   "cell_type": "code",
   "execution_count": 10,
   "id": "68727cf0-a9d0-454d-88f2-75b7d5d8d6f7",
   "metadata": {},
   "outputs": [],
   "source": [
    "import numpy as np"
   ]
  },
  {
   "cell_type": "code",
   "execution_count": 11,
   "id": "7d7503a6-6b1a-4d10-bb8d-ffb5cfa5ccc0",
   "metadata": {},
   "outputs": [
    {
     "data": {
      "text/html": [
       "<div>\n",
       "<style scoped>\n",
       "    .dataframe tbody tr th:only-of-type {\n",
       "        vertical-align: middle;\n",
       "    }\n",
       "\n",
       "    .dataframe tbody tr th {\n",
       "        vertical-align: top;\n",
       "    }\n",
       "\n",
       "    .dataframe thead th {\n",
       "        text-align: right;\n",
       "    }\n",
       "</style>\n",
       "<table border=\"1\" class=\"dataframe\">\n",
       "  <thead>\n",
       "    <tr style=\"text-align: right;\">\n",
       "      <th></th>\n",
       "      <th>Open</th>\n",
       "      <th>High</th>\n",
       "      <th>Low</th>\n",
       "      <th>Close</th>\n",
       "      <th>Adj Close</th>\n",
       "      <th>Volume</th>\n",
       "      <th>change_tomorrow</th>\n",
       "    </tr>\n",
       "    <tr>\n",
       "      <th>Date</th>\n",
       "      <th></th>\n",
       "      <th></th>\n",
       "      <th></th>\n",
       "      <th></th>\n",
       "      <th></th>\n",
       "      <th></th>\n",
       "      <th></th>\n",
       "    </tr>\n",
       "  </thead>\n",
       "  <tbody>\n",
       "    <tr>\n",
       "      <th>2020-01-02</th>\n",
       "      <td>326.100006</td>\n",
       "      <td>329.980011</td>\n",
       "      <td>324.779999</td>\n",
       "      <td>329.809998</td>\n",
       "      <td>329.809998</td>\n",
       "      <td>4485800</td>\n",
       "      <td>-1</td>\n",
       "    </tr>\n",
       "    <tr>\n",
       "      <th>2020-01-03</th>\n",
       "      <td>326.779999</td>\n",
       "      <td>329.859985</td>\n",
       "      <td>325.529999</td>\n",
       "      <td>325.899994</td>\n",
       "      <td>325.899994</td>\n",
       "      <td>3806900</td>\n",
       "      <td>1</td>\n",
       "    </tr>\n",
       "    <tr>\n",
       "      <th>...</th>\n",
       "      <td>...</td>\n",
       "      <td>...</td>\n",
       "      <td>...</td>\n",
       "      <td>...</td>\n",
       "      <td>...</td>\n",
       "      <td>...</td>\n",
       "      <td>...</td>\n",
       "    </tr>\n",
       "    <tr>\n",
       "      <th>2023-05-12</th>\n",
       "      <td>344.760010</td>\n",
       "      <td>348.170013</td>\n",
       "      <td>337.359985</td>\n",
       "      <td>339.890015</td>\n",
       "      <td>339.890015</td>\n",
       "      <td>6079900</td>\n",
       "      <td>-1</td>\n",
       "    </tr>\n",
       "    <tr>\n",
       "      <th>2023-05-15</th>\n",
       "      <td>340.619995</td>\n",
       "      <td>341.899994</td>\n",
       "      <td>335.540009</td>\n",
       "      <td>335.890015</td>\n",
       "      <td>335.890015</td>\n",
       "      <td>3653000</td>\n",
       "      <td>-1</td>\n",
       "    </tr>\n",
       "  </tbody>\n",
       "</table>\n",
       "<p>848 rows × 7 columns</p>\n",
       "</div>"
      ],
      "text/plain": [
       "                  Open        High         Low       Close   Adj Close  \\\n",
       "Date                                                                     \n",
       "2020-01-02  326.100006  329.980011  324.779999  329.809998  329.809998   \n",
       "2020-01-03  326.779999  329.859985  325.529999  325.899994  325.899994   \n",
       "...                ...         ...         ...         ...         ...   \n",
       "2023-05-12  344.760010  348.170013  337.359985  339.890015  339.890015   \n",
       "2023-05-15  340.619995  341.899994  335.540009  335.890015  335.890015   \n",
       "\n",
       "             Volume  change_tomorrow  \n",
       "Date                                  \n",
       "2020-01-02  4485800               -1  \n",
       "2020-01-03  3806900                1  \n",
       "...             ...              ...  \n",
       "2023-05-12  6079900               -1  \n",
       "2023-05-15  3653000               -1  \n",
       "\n",
       "[848 rows x 7 columns]"
      ]
     },
     "execution_count": 11,
     "metadata": {},
     "output_type": "execute_result"
    }
   ],
   "source": [
    "df.change_tomorrow = np.where(df.change_tomorrow > 0, 1, -1)\n",
    "df"
   ]
  },
  {
   "attachments": {},
   "cell_type": "markdown",
   "id": "b3196153-c4af-4863-b1be-1017deefa2f5",
   "metadata": {},
   "source": [
    "## Compute Machine Learning model\n",
    "\n",
    "Proposal: Random Forest within `ensemble` module of `sklearn` library"
   ]
  },
  {
   "cell_type": "code",
   "execution_count": 12,
   "id": "bb433d01-0e6b-4f60-a3a5-dac0a2490818",
   "metadata": {},
   "outputs": [],
   "source": [
    "from sklearn.ensemble import RandomForestClassifier"
   ]
  },
  {
   "cell_type": "code",
   "execution_count": 13,
   "id": "d4b0de11-7bcc-474f-be6f-1ba6ca38d98d",
   "metadata": {},
   "outputs": [],
   "source": [
    "model = RandomForestClassifier(max_depth=7, random_state=42)"
   ]
  },
  {
   "cell_type": "code",
   "execution_count": 14,
   "id": "c5770a11-e57a-4c2f-b084-01d090a5db2d",
   "metadata": {},
   "outputs": [],
   "source": [
    "y = df.change_tomorrow\n",
    "X = df.drop(columns='change_tomorrow')"
   ]
  },
  {
   "cell_type": "code",
   "execution_count": 15,
   "id": "594f054c-cab2-4d40-a6f0-ba14cfc073c4",
   "metadata": {},
   "outputs": [
    {
     "data": {
      "text/html": [
       "<style>#sk-container-id-1 {color: black;background-color: white;}#sk-container-id-1 pre{padding: 0;}#sk-container-id-1 div.sk-toggleable {background-color: white;}#sk-container-id-1 label.sk-toggleable__label {cursor: pointer;display: block;width: 100%;margin-bottom: 0;padding: 0.3em;box-sizing: border-box;text-align: center;}#sk-container-id-1 label.sk-toggleable__label-arrow:before {content: \"▸\";float: left;margin-right: 0.25em;color: #696969;}#sk-container-id-1 label.sk-toggleable__label-arrow:hover:before {color: black;}#sk-container-id-1 div.sk-estimator:hover label.sk-toggleable__label-arrow:before {color: black;}#sk-container-id-1 div.sk-toggleable__content {max-height: 0;max-width: 0;overflow: hidden;text-align: left;background-color: #f0f8ff;}#sk-container-id-1 div.sk-toggleable__content pre {margin: 0.2em;color: black;border-radius: 0.25em;background-color: #f0f8ff;}#sk-container-id-1 input.sk-toggleable__control:checked~div.sk-toggleable__content {max-height: 200px;max-width: 100%;overflow: auto;}#sk-container-id-1 input.sk-toggleable__control:checked~label.sk-toggleable__label-arrow:before {content: \"▾\";}#sk-container-id-1 div.sk-estimator input.sk-toggleable__control:checked~label.sk-toggleable__label {background-color: #d4ebff;}#sk-container-id-1 div.sk-label input.sk-toggleable__control:checked~label.sk-toggleable__label {background-color: #d4ebff;}#sk-container-id-1 input.sk-hidden--visually {border: 0;clip: rect(1px 1px 1px 1px);clip: rect(1px, 1px, 1px, 1px);height: 1px;margin: -1px;overflow: hidden;padding: 0;position: absolute;width: 1px;}#sk-container-id-1 div.sk-estimator {font-family: monospace;background-color: #f0f8ff;border: 1px dotted black;border-radius: 0.25em;box-sizing: border-box;margin-bottom: 0.5em;}#sk-container-id-1 div.sk-estimator:hover {background-color: #d4ebff;}#sk-container-id-1 div.sk-parallel-item::after {content: \"\";width: 100%;border-bottom: 1px solid gray;flex-grow: 1;}#sk-container-id-1 div.sk-label:hover label.sk-toggleable__label {background-color: #d4ebff;}#sk-container-id-1 div.sk-serial::before {content: \"\";position: absolute;border-left: 1px solid gray;box-sizing: border-box;top: 0;bottom: 0;left: 50%;z-index: 0;}#sk-container-id-1 div.sk-serial {display: flex;flex-direction: column;align-items: center;background-color: white;padding-right: 0.2em;padding-left: 0.2em;position: relative;}#sk-container-id-1 div.sk-item {position: relative;z-index: 1;}#sk-container-id-1 div.sk-parallel {display: flex;align-items: stretch;justify-content: center;background-color: white;position: relative;}#sk-container-id-1 div.sk-item::before, #sk-container-id-1 div.sk-parallel-item::before {content: \"\";position: absolute;border-left: 1px solid gray;box-sizing: border-box;top: 0;bottom: 0;left: 50%;z-index: -1;}#sk-container-id-1 div.sk-parallel-item {display: flex;flex-direction: column;z-index: 1;position: relative;background-color: white;}#sk-container-id-1 div.sk-parallel-item:first-child::after {align-self: flex-end;width: 50%;}#sk-container-id-1 div.sk-parallel-item:last-child::after {align-self: flex-start;width: 50%;}#sk-container-id-1 div.sk-parallel-item:only-child::after {width: 0;}#sk-container-id-1 div.sk-dashed-wrapped {border: 1px dashed gray;margin: 0 0.4em 0.5em 0.4em;box-sizing: border-box;padding-bottom: 0.4em;background-color: white;}#sk-container-id-1 div.sk-label label {font-family: monospace;font-weight: bold;display: inline-block;line-height: 1.2em;}#sk-container-id-1 div.sk-label-container {text-align: center;}#sk-container-id-1 div.sk-container {/* jupyter's `normalize.less` sets `[hidden] { display: none; }` but bootstrap.min.css set `[hidden] { display: none !important; }` so we also need the `!important` here to be able to override the default hidden behavior on the sphinx rendered scikit-learn.org. See: https://github.com/scikit-learn/scikit-learn/issues/21755 */display: inline-block !important;position: relative;}#sk-container-id-1 div.sk-text-repr-fallback {display: none;}</style><div id=\"sk-container-id-1\" class=\"sk-top-container\"><div class=\"sk-text-repr-fallback\"><pre>RandomForestClassifier(max_depth=7, random_state=42)</pre><b>In a Jupyter environment, please rerun this cell to show the HTML representation or trust the notebook. <br />On GitHub, the HTML representation is unable to render, please try loading this page with nbviewer.org.</b></div><div class=\"sk-container\" hidden><div class=\"sk-item\"><div class=\"sk-estimator sk-toggleable\"><input class=\"sk-toggleable__control sk-hidden--visually\" id=\"sk-estimator-id-1\" type=\"checkbox\" checked><label for=\"sk-estimator-id-1\" class=\"sk-toggleable__label sk-toggleable__label-arrow\">RandomForestClassifier</label><div class=\"sk-toggleable__content\"><pre>RandomForestClassifier(max_depth=7, random_state=42)</pre></div></div></div></div></div>"
      ],
      "text/plain": [
       "RandomForestClassifier(max_depth=7, random_state=42)"
      ]
     },
     "execution_count": 15,
     "metadata": {},
     "output_type": "execute_result"
    }
   ],
   "source": [
    "model.fit(X, y)"
   ]
  },
  {
   "cell_type": "code",
   "execution_count": 16,
   "id": "5986108f-ec25-4537-a396-9558384fb31d",
   "metadata": {},
   "outputs": [
    {
     "data": {
      "text/plain": [
       "0.8349056603773585"
      ]
     },
     "execution_count": 16,
     "metadata": {},
     "output_type": "execute_result"
    }
   ],
   "source": [
    "model.score(X, y)"
   ]
  },
  {
   "attachments": {},
   "cell_type": "markdown",
   "id": "2072c20e-d9dd-4620-a658-8aa2988aec2c",
   "metadata": {},
   "source": [
    "## Backtesting"
   ]
  },
  {
   "attachments": {},
   "cell_type": "markdown",
   "id": "88943e4c-b9bd-41d0-b679-25f1a28c0171",
   "metadata": {},
   "source": [
    "### Create the strategy"
   ]
  },
  {
   "cell_type": "code",
   "execution_count": 17,
   "id": "a10d3ffc-71cc-45d0-8271-48032180729d",
   "metadata": {},
   "outputs": [],
   "source": [
    "from backtesting import Strategy"
   ]
  },
  {
   "cell_type": "code",
   "execution_count": 18,
   "id": "3b756d1d-08aa-4110-b2df-1d5f260210f0",
   "metadata": {},
   "outputs": [],
   "source": [
    "class SimpleClassificationUD(Strategy):\n",
    "    def init(self):\n",
    "        self.model = model\n",
    "        self.already_bought = False\n",
    "\n",
    "    def next(self):\n",
    "        explanatory_today = self.data.df.iloc[-1:, :]\n",
    "        forecast_tomorrow = self.model.predict(explanatory_today)[0]\n",
    "        \n",
    "        # conditions to sell or buy\n",
    "        if forecast_tomorrow == 1 and self.already_bought == False:\n",
    "            self.buy()\n",
    "            self.already_bought = True\n",
    "        elif forecast_tomorrow == -1 and self.already_bought == True:\n",
    "            self.sell()\n",
    "            self.already_bought = False\n",
    "        else:\n",
    "            pass"
   ]
  },
  {
   "attachments": {},
   "cell_type": "markdown",
   "id": "5b01b553-3322-45a5-a4d6-7599aaa81eef",
   "metadata": {},
   "source": [
    "### Run the Backtest"
   ]
  },
  {
   "cell_type": "code",
   "execution_count": 19,
   "id": "1f01ca27-b5ed-4fc2-9309-75837bf433ca",
   "metadata": {},
   "outputs": [],
   "source": [
    "from backtesting import Backtest"
   ]
  },
  {
   "cell_type": "code",
   "execution_count": 20,
   "id": "8e866dee-4108-4133-af4b-9ebe36c17f82",
   "metadata": {},
   "outputs": [],
   "source": [
    "bt = Backtest(\n",
    "    X, SimpleClassificationUD, cash=10000,\n",
    "    commission=.002, exclusive_orders=True\n",
    ")"
   ]
  },
  {
   "cell_type": "code",
   "execution_count": 21,
   "id": "fe6f032f-d4cb-499d-825e-c2e7fa85844a",
   "metadata": {},
   "outputs": [],
   "source": [
    "results = bt.run()"
   ]
  },
  {
   "attachments": {},
   "cell_type": "markdown",
   "id": "aeff4093-2a8f-44cf-8c6d-86e82f5e9180",
   "metadata": {},
   "source": [
    "### Show the report in a DataFrame"
   ]
  },
  {
   "cell_type": "code",
   "execution_count": 22,
   "id": "65d01b89-f35c-4ce0-89fb-ca9e0b60bbb1",
   "metadata": {},
   "outputs": [
    {
     "data": {
      "text/html": [
       "<div>\n",
       "<style scoped>\n",
       "    .dataframe tbody tr th:only-of-type {\n",
       "        vertical-align: middle;\n",
       "    }\n",
       "\n",
       "    .dataframe tbody tr th {\n",
       "        vertical-align: top;\n",
       "    }\n",
       "\n",
       "    .dataframe thead th {\n",
       "        text-align: right;\n",
       "    }\n",
       "</style>\n",
       "<table border=\"1\" class=\"dataframe\">\n",
       "  <thead>\n",
       "    <tr style=\"text-align: right;\">\n",
       "      <th></th>\n",
       "      <th>Value</th>\n",
       "    </tr>\n",
       "  </thead>\n",
       "  <tbody>\n",
       "    <tr>\n",
       "      <th>Start</th>\n",
       "      <td>2020-01-02 00:00:00</td>\n",
       "    </tr>\n",
       "    <tr>\n",
       "      <th>End</th>\n",
       "      <td>2023-05-15 00:00:00</td>\n",
       "    </tr>\n",
       "    <tr>\n",
       "      <th>Duration</th>\n",
       "      <td>1229 days 00:00:00</td>\n",
       "    </tr>\n",
       "    <tr>\n",
       "      <th>Exposure Time [%]</th>\n",
       "      <td>99.764151</td>\n",
       "    </tr>\n",
       "    <tr>\n",
       "      <th>Equity Final [$]</th>\n",
       "      <td>28916881.488771</td>\n",
       "    </tr>\n",
       "    <tr>\n",
       "      <th>Equity Peak [$]</th>\n",
       "      <td>28977622.433596</td>\n",
       "    </tr>\n",
       "    <tr>\n",
       "      <th>Return [%]</th>\n",
       "      <td>289068.814888</td>\n",
       "    </tr>\n",
       "  </tbody>\n",
       "</table>\n",
       "</div>"
      ],
      "text/plain": [
       "                                 Value\n",
       "Start              2020-01-02 00:00:00\n",
       "End                2023-05-15 00:00:00\n",
       "Duration            1229 days 00:00:00\n",
       "Exposure Time [%]            99.764151\n",
       "Equity Final [$]       28916881.488771\n",
       "Equity Peak [$]        28977622.433596\n",
       "Return [%]               289068.814888"
      ]
     },
     "execution_count": 22,
     "metadata": {},
     "output_type": "execute_result"
    }
   ],
   "source": [
    "results.to_frame('Value').loc[:'Return [%]']"
   ]
  },
  {
   "attachments": {},
   "cell_type": "markdown",
   "id": "835ed5dd-26cc-4743-9120-7d418d51bf9e",
   "metadata": {},
   "source": [
    "## Plot the backtest report"
   ]
  },
  {
   "attachments": {},
   "cell_type": "markdown",
   "id": "98720b82-73de-48e5-83ae-bcb002a29600",
   "metadata": {},
   "source": [
    "> Don't worry about this new tool just yet, we will explain in a future chapter how to interpret the following chart."
   ]
  },
  {
   "cell_type": "code",
   "execution_count": 23,
   "id": "b78d08d5-9f46-4545-b85f-3115c1b07dbb",
   "metadata": {},
   "outputs": [
    {
     "data": {
      "text/html": [
       "<div style=\"display: table;\"><div style=\"display: table-row;\"><div style=\"display: table-cell;\"><b title=\"bokeh.models.layouts.Row\">Row</b>(</div><div style=\"display: table-cell;\">id&nbsp;=&nbsp;'1407', <span id=\"2021\" style=\"cursor: pointer;\">&hellip;)</span></div></div><div class=\"2020\" style=\"display: none;\"><div style=\"display: table-cell;\"></div><div style=\"display: table-cell;\">align&nbsp;=&nbsp;'start',</div></div><div class=\"2020\" style=\"display: none;\"><div style=\"display: table-cell;\"></div><div style=\"display: table-cell;\">aspect_ratio&nbsp;=&nbsp;None,</div></div><div class=\"2020\" style=\"display: none;\"><div style=\"display: table-cell;\"></div><div style=\"display: table-cell;\">background&nbsp;=&nbsp;None,</div></div><div class=\"2020\" style=\"display: none;\"><div style=\"display: table-cell;\"></div><div style=\"display: table-cell;\">children&nbsp;=&nbsp;[GridBox(id='1404', ...), ToolbarBox(id='1406', ...)],</div></div><div class=\"2020\" style=\"display: none;\"><div style=\"display: table-cell;\"></div><div style=\"display: table-cell;\">cols&nbsp;=&nbsp;'auto',</div></div><div class=\"2020\" style=\"display: none;\"><div style=\"display: table-cell;\"></div><div style=\"display: table-cell;\">css_classes&nbsp;=&nbsp;[],</div></div><div class=\"2020\" style=\"display: none;\"><div style=\"display: table-cell;\"></div><div style=\"display: table-cell;\">disabled&nbsp;=&nbsp;False,</div></div><div class=\"2020\" style=\"display: none;\"><div style=\"display: table-cell;\"></div><div style=\"display: table-cell;\">height&nbsp;=&nbsp;None,</div></div><div class=\"2020\" style=\"display: none;\"><div style=\"display: table-cell;\"></div><div style=\"display: table-cell;\">height_policy&nbsp;=&nbsp;'auto',</div></div><div class=\"2020\" style=\"display: none;\"><div style=\"display: table-cell;\"></div><div style=\"display: table-cell;\">js_event_callbacks&nbsp;=&nbsp;{},</div></div><div class=\"2020\" style=\"display: none;\"><div style=\"display: table-cell;\"></div><div style=\"display: table-cell;\">js_property_callbacks&nbsp;=&nbsp;{},</div></div><div class=\"2020\" style=\"display: none;\"><div style=\"display: table-cell;\"></div><div style=\"display: table-cell;\">margin&nbsp;=&nbsp;(0, 0, 0, 0),</div></div><div class=\"2020\" style=\"display: none;\"><div style=\"display: table-cell;\"></div><div style=\"display: table-cell;\">max_height&nbsp;=&nbsp;None,</div></div><div class=\"2020\" style=\"display: none;\"><div style=\"display: table-cell;\"></div><div style=\"display: table-cell;\">max_width&nbsp;=&nbsp;None,</div></div><div class=\"2020\" style=\"display: none;\"><div style=\"display: table-cell;\"></div><div style=\"display: table-cell;\">min_height&nbsp;=&nbsp;None,</div></div><div class=\"2020\" style=\"display: none;\"><div style=\"display: table-cell;\"></div><div style=\"display: table-cell;\">min_width&nbsp;=&nbsp;None,</div></div><div class=\"2020\" style=\"display: none;\"><div style=\"display: table-cell;\"></div><div style=\"display: table-cell;\">name&nbsp;=&nbsp;None,</div></div><div class=\"2020\" style=\"display: none;\"><div style=\"display: table-cell;\"></div><div style=\"display: table-cell;\">sizing_mode&nbsp;=&nbsp;'stretch_width',</div></div><div class=\"2020\" style=\"display: none;\"><div style=\"display: table-cell;\"></div><div style=\"display: table-cell;\">spacing&nbsp;=&nbsp;0,</div></div><div class=\"2020\" style=\"display: none;\"><div style=\"display: table-cell;\"></div><div style=\"display: table-cell;\">subscribed_events&nbsp;=&nbsp;[],</div></div><div class=\"2020\" style=\"display: none;\"><div style=\"display: table-cell;\"></div><div style=\"display: table-cell;\">syncable&nbsp;=&nbsp;True,</div></div><div class=\"2020\" style=\"display: none;\"><div style=\"display: table-cell;\"></div><div style=\"display: table-cell;\">tags&nbsp;=&nbsp;[],</div></div><div class=\"2020\" style=\"display: none;\"><div style=\"display: table-cell;\"></div><div style=\"display: table-cell;\">visible&nbsp;=&nbsp;True,</div></div><div class=\"2020\" style=\"display: none;\"><div style=\"display: table-cell;\"></div><div style=\"display: table-cell;\">width&nbsp;=&nbsp;None,</div></div><div class=\"2020\" style=\"display: none;\"><div style=\"display: table-cell;\"></div><div style=\"display: table-cell;\">width_policy&nbsp;=&nbsp;'auto')</div></div></div>\n",
       "<script>\n",
       "(function() {\n",
       "  let expanded = false;\n",
       "  const ellipsis = document.getElementById(\"2021\");\n",
       "  ellipsis.addEventListener(\"click\", function() {\n",
       "    const rows = document.getElementsByClassName(\"2020\");\n",
       "    for (let i = 0; i < rows.length; i++) {\n",
       "      const el = rows[i];\n",
       "      el.style.display = expanded ? \"none\" : \"table-row\";\n",
       "    }\n",
       "    ellipsis.innerHTML = expanded ? \"&hellip;)\" : \"&lsaquo;&lsaquo;&lsaquo;\";\n",
       "    expanded = !expanded;\n",
       "  });\n",
       "})();\n",
       "</script>\n"
      ],
      "text/plain": [
       "Row(id='1407', ...)"
      ]
     },
     "execution_count": 23,
     "metadata": {},
     "output_type": "execute_result"
    }
   ],
   "source": [
    "bt.plot(filename='backtest_report.html')"
   ]
  },
  {
   "attachments": {},
   "cell_type": "markdown",
   "id": "57364378",
   "metadata": {},
   "source": [
    "## How to invest based on the numerical increase?\n",
    "\n",
    "> Instead of the direction (UP or DOWN)\n",
    "\n",
    "Next chapter → [Backtesting with Regression Models]()"
   ]
  },
  {
   "attachments": {},
   "cell_type": "markdown",
   "id": "c34c6fa1",
   "metadata": {},
   "source": [
    "Classification Model | Regression Model\n",
    "-|-\n",
    "![](src/pred_classification.png) | ![](src/pred_regression.png)"
   ]
  },
  {
   "attachments": {},
   "cell_type": "markdown",
   "id": "26d24352",
   "metadata": {},
   "source": [
    "Classification Strategy | Regression Strategy\n",
    "-|-\n",
    "![](src/res_classification.png) | ![](src/res_regression.png)"
   ]
  }
 ],
 "metadata": {
  "kernelspec": {
   "display_name": "Python 3",
   "language": "python",
   "name": "python3"
  },
  "language_info": {
   "codemirror_mode": {
    "name": "ipython",
    "version": 3
   },
   "file_extension": ".py",
   "mimetype": "text/x-python",
   "name": "python",
   "nbconvert_exporter": "python",
   "pygments_lexer": "ipython3",
   "version": "3.10.10"
  }
 },
 "nbformat": 4,
 "nbformat_minor": 5
}
