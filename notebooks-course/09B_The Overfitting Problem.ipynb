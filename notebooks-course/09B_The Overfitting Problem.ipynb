{
 "cells": [
  {
   "attachments": {},
   "cell_type": "markdown",
   "id": "15c58755-3e1d-4514-b1ca-473f2b60e916",
   "metadata": {},
   "source": [
    "# The overfitting problem"
   ]
  },
  {
   "attachments": {},
   "cell_type": "markdown",
   "id": "888d9d1a-767f-4c91-b88a-762fd9fc329b",
   "metadata": {},
   "source": [
    "![](<src/09_Table_The Overfitting.png>)"
   ]
  },
  {
   "attachments": {},
   "cell_type": "markdown",
   "id": "4407f22f-45ed-46e5-9a45-9a04bf6945de",
   "metadata": {},
   "source": [
    "## Load the data"
   ]
  },
  {
   "cell_type": "code",
   "execution_count": null,
   "id": "62f01b0c-8a0a-498a-9b29-a8a872d9abc2",
   "metadata": {},
   "outputs": [],
   "source": [
    "import pandas as pd\n",
    "\n",
    "df = pd.read_excel('data/Microsoft_LinkedIn_Processed.xlsx', parse_dates=['Date'], index_col=0)\n",
    "df"
   ]
  },
  {
   "attachments": {},
   "cell_type": "markdown",
   "id": "0916e425-b217-46c4-9c4a-2574bbb98976",
   "metadata": {},
   "source": [
    "## Machine Learning Model"
   ]
  },
  {
   "attachments": {},
   "cell_type": "markdown",
   "id": "815660e5-d35d-4e6f-b1c9-9f0025a5aaa6",
   "metadata": {},
   "source": [
    "### Separate the data\n",
    "\n",
    "1. Target: which variable do you want to predict?\n",
    "2. Explanatory: which variables will you use to calculate the prediction?"
   ]
  },
  {
   "cell_type": "code",
   "execution_count": null,
   "id": "5dc4021a-5582-44c1-b70c-1fbfa818794b",
   "metadata": {},
   "outputs": [],
   "source": [
    "target = df.change_tomorrow\n",
    "explanatory = df[['Open','High','Low','Close','Volume']]"
   ]
  },
  {
   "attachments": {},
   "cell_type": "markdown",
   "id": "d54284ff-21fd-4b82-ba73-4cfc2a05b128",
   "metadata": {},
   "source": [
    "## Train test split"
   ]
  },
  {
   "attachments": {},
   "cell_type": "markdown",
   "id": "d793fd19-3d4f-49a6-aefe-df2ef736d021",
   "metadata": {},
   "source": [
    "### Split the dataset"
   ]
  },
  {
   "cell_type": "code",
   "execution_count": null,
   "id": "7dedf4ea-a0ef-45f5-a4f1-d6c5d73ff31d",
   "metadata": {},
   "outputs": [],
   "source": [
    "n_days = len(df.index)\n",
    "n_days"
   ]
  },
  {
   "cell_type": "code",
   "execution_count": null,
   "id": "14190cc7-2023-4f33-8872-676655ecb569",
   "metadata": {},
   "outputs": [],
   "source": [
    "n_days_split = int(n_days*???)\n",
    "n_days_split"
   ]
  },
  {
   "cell_type": "code",
   "execution_count": null,
   "id": "088e860c-0a14-4f99-a6ae-ea24c1279aa7",
   "metadata": {},
   "outputs": [],
   "source": [
    "X_train, y_train = ???\n",
    "X_test, y_test = ???"
   ]
  },
  {
   "attachments": {},
   "cell_type": "markdown",
   "id": "1ccb5348-7e36-40a3-bbee-2e42e297a069",
   "metadata": {},
   "source": [
    "### Fit the model on train set"
   ]
  },
  {
   "cell_type": "code",
   "execution_count": null,
   "id": "4744dbd2-5e9f-4cf6-b24f-1516b8e864e8",
   "metadata": {},
   "outputs": [],
   "source": []
  },
  {
   "attachments": {},
   "cell_type": "markdown",
   "id": "69444552-f5ca-4194-a59c-4c4293f0a5fc",
   "metadata": {},
   "source": [
    "### Evaluate model"
   ]
  },
  {
   "attachments": {},
   "cell_type": "markdown",
   "id": "792b982b-2813-4cfe-b987-9a1f7eae3ae3",
   "metadata": {},
   "source": [
    "#### On test set"
   ]
  },
  {
   "cell_type": "code",
   "execution_count": null,
   "id": "2cdca93a",
   "metadata": {},
   "outputs": [],
   "source": [
    "from sklearn.metrics import ???"
   ]
  },
  {
   "cell_type": "code",
   "execution_count": null,
   "id": "98fbd143",
   "metadata": {},
   "outputs": [],
   "source": [
    "mean_squared_error(???)"
   ]
  },
  {
   "attachments": {},
   "cell_type": "markdown",
   "id": "881d27f4-6344-4cee-855d-9a2735a852aa",
   "metadata": {},
   "source": [
    "#### On train set"
   ]
  },
  {
   "cell_type": "code",
   "execution_count": null,
   "id": "0a47d2d2-6b62-459e-85d4-6c433c1b569c",
   "metadata": {},
   "outputs": [],
   "source": []
  },
  {
   "attachments": {},
   "cell_type": "markdown",
   "id": "32f4c9ba-ab10-4d00-8b45-bfda4b2298b8",
   "metadata": {},
   "source": [
    "## [ ] Backtesting"
   ]
  },
  {
   "cell_type": "code",
   "execution_count": null,
   "id": "a6aa60da-4c9a-4485-aae7-91324eed16e2",
   "metadata": {},
   "outputs": [],
   "source": [
    "from backtesting import Backtest, Strategy"
   ]
  },
  {
   "attachments": {},
   "cell_type": "markdown",
   "id": "367a9244-7176-43d2-b784-7e7db33c43df",
   "metadata": {},
   "source": [
    "### Create the `Strategy`"
   ]
  },
  {
   "cell_type": "code",
   "execution_count": null,
   "id": "05dec003-6544-4832-bec1-8195455191fd",
   "metadata": {},
   "outputs": [],
   "source": [
    "class Regression(Strategy):\n",
    "    limit_buy = 1\n",
    "    limit_sell = -5\n",
    "    \n",
    "    def init(self):\n",
    "        self.model = DecisionTreeRegressor(max_depth=15, random_state=42)\n",
    "        self.already_bought = False\n",
    "        \n",
    "        self.model.fit(X=X_train, y=y_train)\n",
    "\n",
    "    def next(self):\n",
    "        explanatory_today = self.data.df.iloc[[-1], :]\n",
    "        forecast_tomorrow = self.model.predict(explanatory_today)[0]\n",
    "        \n",
    "        if forecast_tomorrow > self.limit_buy and self.already_bought == False:\n",
    "            self.buy()\n",
    "            self.already_bought = True\n",
    "        elif forecast_tomorrow < self.limit_sell and self.already_bought == True:\n",
    "            self.sell()\n",
    "            self.already_bought = False\n",
    "        else:\n",
    "            pass"
   ]
  },
  {
   "attachments": {},
   "cell_type": "markdown",
   "id": "10330a05-12bf-4c83-bf1b-3727fed50102",
   "metadata": {},
   "source": [
    "### Run the backtest on `test` data"
   ]
  },
  {
   "cell_type": "code",
   "execution_count": null,
   "id": "d0e892ec-9924-461a-ad18-09f0a1512aac",
   "metadata": {},
   "outputs": [],
   "source": [
    "bt = Backtest(???, Regression,\n",
    "              cash=10000, commission=.002, exclusive_orders=True)"
   ]
  },
  {
   "cell_type": "code",
   "execution_count": null,
   "id": "8f131c9c-3984-4d73-9e85-800d418287fc",
   "metadata": {},
   "outputs": [],
   "source": [
    "results = bt.run(limit_buy=1, limit_sell=-5)\n",
    "\n",
    "df_results_test = results.to_frame(name='Values').loc[:'Return [%]']\\\n",
    "    .rename({'Values':'Out of Sample (Test)'}, axis=1)\n",
    "df_results_test"
   ]
  },
  {
   "attachments": {},
   "cell_type": "markdown",
   "id": "b766904b-9ac0-4b99-aede-f1c5bcd0ac47",
   "metadata": {},
   "source": [
    "### Run the backtest on `train` data"
   ]
  },
  {
   "cell_type": "code",
   "execution_count": null,
   "id": "d12e8e0f-b56a-48e4-90d6-e16e61f6e4c6",
   "metadata": {},
   "outputs": [],
   "source": [
    "bt = Backtest(???, Regression,\n",
    "              cash=10000, commission=.002, exclusive_orders=True)\n",
    "\n",
    "results = bt.run(limit_buy=1, limit_sell=-5)\n",
    "\n",
    "df_results_train = results.to_frame(name='Values').loc[:'Return [%]']\\\n",
    "    .rename({'Values':'In Sample (Train)'}, axis=1)\n",
    "df_results_train"
   ]
  },
  {
   "attachments": {},
   "cell_type": "markdown",
   "id": "ae5295ab-18f4-42dc-a88c-0d78a5d235bf",
   "metadata": {},
   "source": [
    "### Compare both backtests"
   ]
  },
  {
   "cell_type": "code",
   "execution_count": null,
   "id": "585e5dce-1742-4b4c-a266-99487ef5e214",
   "metadata": {},
   "outputs": [],
   "source": [
    "df_results = pd.concat(???)\n",
    "df_results"
   ]
  },
  {
   "attachments": {},
   "cell_type": "markdown",
   "id": "2f8491ef",
   "metadata": {},
   "source": [
    "## Practice to master the knowledge\n",
    "\n",
    "Work on the challenge with another dataset:\n",
    "\n",
    "1. Learn the <a>mental models</a> to solve the challenge faster.\n",
    "2. Complete the <a href=\"09C_The Overfitting Problem.ipynb\">notebook</a>."
   ]
  }
 ],
 "metadata": {
  "kernelspec": {
   "display_name": "Python 3 (ipykernel)",
   "language": "python",
   "name": "python3"
  },
  "language_info": {
   "codemirror_mode": {
    "name": "ipython",
    "version": 3
   },
   "file_extension": ".py",
   "mimetype": "text/x-python",
   "name": "python",
   "nbconvert_exporter": "python",
   "pygments_lexer": "ipython3",
   "version": "3.10.10"
  }
 },
 "nbformat": 4,
 "nbformat_minor": 5
}
