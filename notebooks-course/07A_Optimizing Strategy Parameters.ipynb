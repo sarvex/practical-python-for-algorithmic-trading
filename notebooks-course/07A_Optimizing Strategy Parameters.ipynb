{
 "cells": [
  {
   "cell_type": "markdown",
   "id": "936616ad-372b-4f2f-ba8f-e90fec65e0f8",
   "metadata": {},
   "source": [
    "# Optimizing Strategy Parameters"
   ]
  },
  {
   "cell_type": "code",
   "execution_count": null,
   "id": "ead1d62f",
   "metadata": {},
   "outputs": [],
   "source": [
    "???"
   ]
  },
  {
   "cell_type": "markdown",
   "id": "823b881d-efa8-4c5d-9c90-f3ff89002ded",
   "metadata": {},
   "source": [
    "<table style=\"width:100%; height:90%\">\n",
    "      <tr>\n",
    "    <th>Parametrize the Strategy</th>\n",
    "    <th>Optimizing Limits' Parameters</th>\n",
    "  </tr>\n",
    "  <tr>\n",
    "    <td><img src=\"src/07_Code_Regression Strategy Limits X.png\" alt=\"Parametrize the Strategy\" style=\"width:100%\"></td>\n",
    "    <td><img src=\"src/07_Table_Optimize BG Default Defaults.png\" alt=\"Optimizing Limits' Parameters\" style=\"width:100%\"></td>\n",
    "  </tr>\n",
    "</table>"
   ]
  },
  {
   "cell_type": "markdown",
   "id": "9d28c9d8-36aa-4308-8237-e17b2c7a5818",
   "metadata": {
    "tags": []
   },
   "source": [
    "## Load the model"
   ]
  },
  {
   "cell_type": "code",
   "execution_count": null,
   "id": "1a582652-bd6e-4a98-9cec-3a0164c19ff2",
   "metadata": {},
   "outputs": [],
   "source": [
    "import pickle\n",
    "\n",
    "with open('models/model_dt_regression.pkl', 'rb') as f:\n",
    "    model_dt = pickle.load(f)\n",
    "    \n",
    "model_dt"
   ]
  },
  {
   "cell_type": "markdown",
   "id": "621608eb-5a9c-46b2-a216-61c91e8cdefd",
   "metadata": {},
   "source": [
    "## Load the data"
   ]
  },
  {
   "cell_type": "code",
   "execution_count": null,
   "id": "e498d5eb-8d12-4057-8af3-bd5bcc47b9eb",
   "metadata": {},
   "outputs": [],
   "source": [
    "import pandas as pd\n",
    "\n",
    "df = pd.read_excel('data/Microsoft_LinkedIn_Processed.xlsx', index_col=0, parse_dates=['Date'])\n",
    "df"
   ]
  },
  {
   "cell_type": "markdown",
   "id": "aaeddddb-fd3f-4e5e-bc2e-d22024048fda",
   "metadata": {},
   "source": [
    "# Simple Investment Strategy"
   ]
  },
  {
   "cell_type": "markdown",
   "id": "5410890e-48b3-4ae7-9c49-7671ace0ceac",
   "metadata": {},
   "source": [
    "### Create Strategy class"
   ]
  },
  {
   "cell_type": "code",
   "execution_count": null,
   "id": "560945c7-52c0-48bf-b80e-aea52d8b75ea",
   "metadata": {},
   "outputs": [],
   "source": [
    "from backtesting import Strategy, Backtest"
   ]
  },
  {
   "cell_type": "code",
   "execution_count": null,
   "id": "00d838c9-5351-453e-ad6e-7c7806828d5e",
   "metadata": {},
   "outputs": [],
   "source": [
    "class Regression(Strategy):\n",
    "    def init(self):\n",
    "        self.model = model_dt\n",
    "        self.already_bought = False\n",
    "\n",
    "    def next(self):\n",
    "        explanatory_today = self.data.df.iloc[[-1], :]\n",
    "        forecast_tomorrow = self.model.predict(explanatory_today)[0]\n",
    "        \n",
    "        if forecast_tomorrow > 1 and self.already_bought == False:\n",
    "            self.buy()\n",
    "            self.already_bought = True\n",
    "        elif forecast_tomorrow < -5 and self.already_bought == True:\n",
    "            self.sell()\n",
    "            self.already_bought = False\n",
    "        else:\n",
    "            pass"
   ]
  },
  {
   "cell_type": "markdown",
   "id": "4dd9e767-6501-4654-99db-ad9e8e5a0ac6",
   "metadata": {},
   "source": [
    "### Create Backtest class"
   ]
  },
  {
   "cell_type": "code",
   "execution_count": null,
   "id": "6e114db4-d63f-4f1f-8ecc-4f5dc79c34d8",
   "metadata": {},
   "outputs": [],
   "source": [
    "df_explanatory = df[['Open', 'High', 'Low', 'Close', 'Volume']].copy()"
   ]
  },
  {
   "cell_type": "code",
   "execution_count": null,
   "id": "6b0ce4af-c8a5-4a74-bf6a-4fca6388279d",
   "metadata": {},
   "outputs": [],
   "source": [
    "bt = Backtest(df_explanatory, ???,\n",
    "              cash=10000, commission=.002, exclusive_orders=True)"
   ]
  },
  {
   "cell_type": "markdown",
   "id": "f9aa1f67-54ec-4e48-badb-7da089e6430e",
   "metadata": {},
   "source": [
    "### Run backtesting with specific values"
   ]
  },
  {
   "cell_type": "code",
   "execution_count": null,
   "id": "187b0201-8a9b-48ed-8738-ff08bfcaef77",
   "metadata": {},
   "outputs": [],
   "source": [
    "results = ???"
   ]
  },
  {
   "cell_type": "markdown",
   "id": "8c5cd0f5-71c9-4736-840f-c14568003e45",
   "metadata": {},
   "source": [
    "### Interpret backtesting results"
   ]
  },
  {
   "cell_type": "code",
   "execution_count": null,
   "id": "8b733f2d-3afd-4541-a14b-c39cb00e24b2",
   "metadata": {},
   "outputs": [],
   "source": [
    "results.to_frame(name='Values').loc[:'Return [%]']"
   ]
  },
  {
   "cell_type": "markdown",
   "id": "ac5f94d8-1151-4dda-8678-4a561cf93f02",
   "metadata": {},
   "source": [
    "## Parametrize the Investment Strategy"
   ]
  },
  {
   "cell_type": "markdown",
   "id": "49ba32ac-753b-48e6-aff1-f9fd90b23b7c",
   "metadata": {},
   "source": [
    "### Create Strategy class"
   ]
  },
  {
   "cell_type": "code",
   "execution_count": null,
   "id": "42a55a4c-87b9-4f27-962b-998f0c4debad",
   "metadata": {},
   "outputs": [],
   "source": [
    "from backtesting import Strategy, Backtest"
   ]
  },
  {
   "cell_type": "code",
   "execution_count": null,
   "id": "b630d898-f973-409a-94d1-8642df3badeb",
   "metadata": {},
   "outputs": [],
   "source": [
    "class Regression(Strategy):\n",
    "    ???\n",
    "    ???\n",
    "    \n",
    "    def init(self):\n",
    "        self.model = model_dt\n",
    "        self.already_bought = False\n",
    "\n",
    "    def next(self):\n",
    "        explanatory_today = self.data.df.iloc[[-1], :]\n",
    "        forecast_tomorrow = self.model.predict(explanatory_today)[0]\n",
    "        \n",
    "        if forecast_tomorrow > ??? and self.already_bought == False:\n",
    "            self.buy()\n",
    "            self.already_bought = True\n",
    "        elif forecast_tomorrow < ??? and self.already_bought == True:\n",
    "            self.sell()\n",
    "            self.already_bought = False\n",
    "        else:\n",
    "            pass"
   ]
  },
  {
   "cell_type": "markdown",
   "id": "233d6ebf-d58a-4678-b0b9-f8dac7ccbda0",
   "metadata": {},
   "source": [
    "### Create Backtest class"
   ]
  },
  {
   "cell_type": "code",
   "execution_count": null,
   "id": "f65f0045-6efc-4941-b075-f23d139ed1b8",
   "metadata": {},
   "outputs": [],
   "source": [
    "bt = Backtest(df_explanatory, Regression,\n",
    "              cash=10000, commission=.002, exclusive_orders=True)"
   ]
  },
  {
   "cell_type": "markdown",
   "id": "01e9306d-0303-49a5-a100-f5ea87a02823",
   "metadata": {},
   "source": [
    "## Optimize backtesting with multiple combinations"
   ]
  },
  {
   "cell_type": "code",
   "execution_count": null,
   "id": "782bf3a7-b828-48ea-8e3c-df7bb7e05a0e",
   "metadata": {},
   "outputs": [],
   "source": [
    "list_limits_buy = list(range(0, 11, 1))\n",
    "list_limits_buy"
   ]
  },
  {
   "cell_type": "code",
   "execution_count": null,
   "id": "4dbd2bcf-e15d-4389-80b5-77b1b0ceeca9",
   "metadata": {},
   "outputs": [],
   "source": [
    "list_limits_sell = list(range(0, -11, -1))\n",
    "list_limits_sell"
   ]
  },
  {
   "cell_type": "code",
   "execution_count": null,
   "id": "5458b6f9-7238-478d-8e52-ee1137bc97b6",
   "metadata": {},
   "outputs": [],
   "source": [
    "%%time\n",
    "\n",
    "results = bt.optimize(\n",
    "    limit_buy = ???, limit_sell = ???,\n",
    "    maximize='Return [%]', return_heatmap=True\n",
    ")"
   ]
  },
  {
   "cell_type": "code",
   "execution_count": null,
   "id": "93a55a5d",
   "metadata": {},
   "outputs": [],
   "source": [
    "results[0]"
   ]
  },
  {
   "cell_type": "code",
   "execution_count": null,
   "id": "64343ec8",
   "metadata": {},
   "outputs": [],
   "source": [
    "results[1]"
   ]
  },
  {
   "cell_type": "markdown",
   "id": "d42b0f04-395c-4547-8ab5-fb37ba973298",
   "metadata": {},
   "source": [
    "### [ ] Interpret optimization results"
   ]
  },
  {
   "cell_type": "code",
   "execution_count": null,
   "id": "b888ba91",
   "metadata": {},
   "outputs": [],
   "source": [
    "dff = results[1].reset_index()\n",
    "dff"
   ]
  },
  {
   "cell_type": "code",
   "execution_count": null,
   "id": "1e9929a6",
   "metadata": {},
   "outputs": [],
   "source": [
    "dff = dff.pivot(???)"
   ]
  },
  {
   "cell_type": "markdown",
   "id": "9e8eeb73-c0ee-4bd0-b54a-3104e961244c",
   "metadata": {},
   "source": [
    "### DataFrame heatmaps for better reporting"
   ]
  },
  {
   "cell_type": "code",
   "execution_count": null,
   "id": "950fd7ce-1faf-4dd2-9dff-467f02558506",
   "metadata": {},
   "outputs": [],
   "source": [
    "dff.sort_index(axis=1, ascending=False)\\\n",
    "  .style.format(precision=0)\\\n",
    "    .background_gradient(vmin=dff.values.min(), vmax=dff.values.max())"
   ]
  }
 ],
 "metadata": {
  "kernelspec": {
   "display_name": "Python (backtesting)",
   "language": "python",
   "name": "backtesting"
  },
  "language_info": {
   "codemirror_mode": {
    "name": "ipython",
    "version": 3
   },
   "file_extension": ".py",
   "mimetype": "text/x-python",
   "name": "python",
   "nbconvert_exporter": "python",
   "pygments_lexer": "ipython3",
   "version": "3.11.0"
  }
 },
 "nbformat": 4,
 "nbformat_minor": 5
}
